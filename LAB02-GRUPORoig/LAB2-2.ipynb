{
 "cells": [
  {
   "cell_type": "code",
   "execution_count": 1,
   "metadata": {},
   "outputs": [],
   "source": [
    "#importaciones de las librerias\n",
    "import pandas as pd\n",
    "import numpy as np\n",
    "import matplotlib.pyplot as plt\n",
    "from gsppy.gsp import GSP"
   ]
  },
  {
   "cell_type": "code",
   "execution_count": 2,
   "metadata": {},
   "outputs": [
    {
     "data": {
      "text/html": [
       "<div>\n",
       "<style scoped>\n",
       "    .dataframe tbody tr th:only-of-type {\n",
       "        vertical-align: middle;\n",
       "    }\n",
       "\n",
       "    .dataframe tbody tr th {\n",
       "        vertical-align: top;\n",
       "    }\n",
       "\n",
       "    .dataframe thead th {\n",
       "        text-align: right;\n",
       "    }\n",
       "</style>\n",
       "<table border=\"1\" class=\"dataframe\">\n",
       "  <thead>\n",
       "    <tr style=\"text-align: right;\">\n",
       "      <th></th>\n",
       "      <th>id_compra</th>\n",
       "      <th>item</th>\n",
       "    </tr>\n",
       "  </thead>\n",
       "  <tbody>\n",
       "    <tr>\n",
       "      <th>0</th>\n",
       "      <td>1</td>\n",
       "      <td>citrus fruit</td>\n",
       "    </tr>\n",
       "    <tr>\n",
       "      <th>1</th>\n",
       "      <td>1</td>\n",
       "      <td>semi-finished bread</td>\n",
       "    </tr>\n",
       "    <tr>\n",
       "      <th>2</th>\n",
       "      <td>1</td>\n",
       "      <td>margarine</td>\n",
       "    </tr>\n",
       "    <tr>\n",
       "      <th>3</th>\n",
       "      <td>1</td>\n",
       "      <td>ready soups</td>\n",
       "    </tr>\n",
       "    <tr>\n",
       "      <th>4</th>\n",
       "      <td>2</td>\n",
       "      <td>tropical fruit</td>\n",
       "    </tr>\n",
       "    <tr>\n",
       "      <th>...</th>\n",
       "      <td>...</td>\n",
       "      <td>...</td>\n",
       "    </tr>\n",
       "    <tr>\n",
       "      <th>43362</th>\n",
       "      <td>9835</td>\n",
       "      <td>chicken</td>\n",
       "    </tr>\n",
       "    <tr>\n",
       "      <th>43363</th>\n",
       "      <td>9835</td>\n",
       "      <td>tropical fruit</td>\n",
       "    </tr>\n",
       "    <tr>\n",
       "      <th>43364</th>\n",
       "      <td>9835</td>\n",
       "      <td>other vegetables</td>\n",
       "    </tr>\n",
       "    <tr>\n",
       "      <th>43365</th>\n",
       "      <td>9835</td>\n",
       "      <td>vinegar</td>\n",
       "    </tr>\n",
       "    <tr>\n",
       "      <th>43366</th>\n",
       "      <td>9835</td>\n",
       "      <td>shopping bags</td>\n",
       "    </tr>\n",
       "  </tbody>\n",
       "</table>\n",
       "<p>43367 rows × 2 columns</p>\n",
       "</div>"
      ],
      "text/plain": [
       "       id_compra                 item\n",
       "0              1         citrus fruit\n",
       "1              1  semi-finished bread\n",
       "2              1            margarine\n",
       "3              1          ready soups\n",
       "4              2       tropical fruit\n",
       "...          ...                  ...\n",
       "43362       9835              chicken\n",
       "43363       9835       tropical fruit\n",
       "43364       9835     other vegetables\n",
       "43365       9835              vinegar\n",
       "43366       9835        shopping bags\n",
       "\n",
       "[43367 rows x 2 columns]"
      ]
     },
     "execution_count": 2,
     "metadata": {},
     "output_type": "execute_result"
    }
   ],
   "source": [
    "dataorig=pd.read_csv('datos_compras.csv')#Leemos el fichero excel\n",
    "dataorig"
   ]
  },
  {
   "cell_type": "code",
   "execution_count": 3,
   "metadata": {},
   "outputs": [
    {
     "data": {
      "text/plain": [
       "1217    32\n",
       "2974    29\n",
       "2939    29\n",
       "9002    29\n",
       "5611    28\n",
       "        ..\n",
       "334      1\n",
       "6477     1\n",
       "2319     1\n",
       "270      1\n",
       "4046     1\n",
       "Name: id_compra, Length: 9835, dtype: int64"
      ]
     },
     "execution_count": 3,
     "metadata": {},
     "output_type": "execute_result"
    }
   ],
   "source": [
    "dataorig.id_compra.value_counts()"
   ]
  },
  {
   "cell_type": "markdown",
   "metadata": {},
   "source": [
    "Como podemos ver en el dataset se nos muestra por separado los items que se compran en una misma compra, por ello los juntaremos."
   ]
  },
  {
   "cell_type": "code",
   "execution_count": 4,
   "metadata": {},
   "outputs": [
    {
     "data": {
      "text/plain": [
       "id_compra\n",
       "1       citrus fruit,semi-finished bread,margarine,rea...\n",
       "2                            tropical fruit,yogurt,coffee\n",
       "3                                              whole milk\n",
       "4              pip fruit,yogurt,cream cheese,meat spreads\n",
       "5       other vegetables,whole milk,condensed milk,lon...\n",
       "                              ...                        \n",
       "9831    sausage,chicken,beef,hamburger meat,citrus fru...\n",
       "9832                                    cooking chocolate\n",
       "9833    chicken,citrus fruit,other vegetables,butter,y...\n",
       "9834    semi-finished bread,bottled water,soda,bottled...\n",
       "9835    chicken,tropical fruit,other vegetables,vinega...\n",
       "Name: item, Length: 9835, dtype: object"
      ]
     },
     "execution_count": 4,
     "metadata": {},
     "output_type": "execute_result"
    }
   ],
   "source": [
    "#Agrupamos los datos segun la variable id compra dado que queremos juntar, las transaccionoes del id\n",
    "groupdata=dataorig.groupby(['id_compra'])\n",
    "#Especificamos el separador que queremos usar\n",
    "separador=','\n",
    "#Unimos con el separador indicado a todas las rows de la columna item.\n",
    "groupdata=groupdata['item'].apply(separador.join)\n",
    "groupdata"
   ]
  },
  {
   "cell_type": "code",
   "execution_count": 5,
   "metadata": {},
   "outputs": [
    {
     "data": {
      "text/plain": [
       "pandas.core.series.Series"
      ]
     },
     "execution_count": 5,
     "metadata": {},
     "output_type": "execute_result"
    }
   ],
   "source": [
    "type(groupdata)#Vemos que ahora se trata de una serie y no de un dataframe"
   ]
  },
  {
   "cell_type": "code",
   "execution_count": 6,
   "metadata": {},
   "outputs": [
    {
     "data": {
      "text/html": [
       "<div>\n",
       "<style scoped>\n",
       "    .dataframe tbody tr th:only-of-type {\n",
       "        vertical-align: middle;\n",
       "    }\n",
       "\n",
       "    .dataframe tbody tr th {\n",
       "        vertical-align: top;\n",
       "    }\n",
       "\n",
       "    .dataframe thead th {\n",
       "        text-align: right;\n",
       "    }\n",
       "</style>\n",
       "<table border=\"1\" class=\"dataframe\">\n",
       "  <thead>\n",
       "    <tr style=\"text-align: right;\">\n",
       "      <th></th>\n",
       "      <th>item</th>\n",
       "    </tr>\n",
       "    <tr>\n",
       "      <th>id_compra</th>\n",
       "      <th></th>\n",
       "    </tr>\n",
       "  </thead>\n",
       "  <tbody>\n",
       "    <tr>\n",
       "      <th>1</th>\n",
       "      <td>citrus fruit,semi-finished bread,margarine,rea...</td>\n",
       "    </tr>\n",
       "    <tr>\n",
       "      <th>2</th>\n",
       "      <td>tropical fruit,yogurt,coffee</td>\n",
       "    </tr>\n",
       "    <tr>\n",
       "      <th>3</th>\n",
       "      <td>whole milk</td>\n",
       "    </tr>\n",
       "    <tr>\n",
       "      <th>4</th>\n",
       "      <td>pip fruit,yogurt,cream cheese,meat spreads</td>\n",
       "    </tr>\n",
       "    <tr>\n",
       "      <th>5</th>\n",
       "      <td>other vegetables,whole milk,condensed milk,lon...</td>\n",
       "    </tr>\n",
       "    <tr>\n",
       "      <th>...</th>\n",
       "      <td>...</td>\n",
       "    </tr>\n",
       "    <tr>\n",
       "      <th>9831</th>\n",
       "      <td>sausage,chicken,beef,hamburger meat,citrus fru...</td>\n",
       "    </tr>\n",
       "    <tr>\n",
       "      <th>9832</th>\n",
       "      <td>cooking chocolate</td>\n",
       "    </tr>\n",
       "    <tr>\n",
       "      <th>9833</th>\n",
       "      <td>chicken,citrus fruit,other vegetables,butter,y...</td>\n",
       "    </tr>\n",
       "    <tr>\n",
       "      <th>9834</th>\n",
       "      <td>semi-finished bread,bottled water,soda,bottled...</td>\n",
       "    </tr>\n",
       "    <tr>\n",
       "      <th>9835</th>\n",
       "      <td>chicken,tropical fruit,other vegetables,vinega...</td>\n",
       "    </tr>\n",
       "  </tbody>\n",
       "</table>\n",
       "<p>9835 rows × 1 columns</p>\n",
       "</div>"
      ],
      "text/plain": [
       "                                                        item\n",
       "id_compra                                                   \n",
       "1          citrus fruit,semi-finished bread,margarine,rea...\n",
       "2                               tropical fruit,yogurt,coffee\n",
       "3                                                 whole milk\n",
       "4                 pip fruit,yogurt,cream cheese,meat spreads\n",
       "5          other vegetables,whole milk,condensed milk,lon...\n",
       "...                                                      ...\n",
       "9831       sausage,chicken,beef,hamburger meat,citrus fru...\n",
       "9832                                       cooking chocolate\n",
       "9833       chicken,citrus fruit,other vegetables,butter,y...\n",
       "9834       semi-finished bread,bottled water,soda,bottled...\n",
       "9835       chicken,tropical fruit,other vegetables,vinega...\n",
       "\n",
       "[9835 rows x 1 columns]"
      ]
     },
     "execution_count": 6,
     "metadata": {},
     "output_type": "execute_result"
    }
   ],
   "source": [
    "#Pasamos a dataframe\n",
    "datagroup=groupdata.to_frame()\n",
    "datagroup"
   ]
  },
  {
   "cell_type": "code",
   "execution_count": 7,
   "metadata": {},
   "outputs": [
    {
     "data": {
      "text/plain": [
       "Index(['item'], dtype='object')"
      ]
     },
     "execution_count": 7,
     "metadata": {},
     "output_type": "execute_result"
    }
   ],
   "source": [
    "datagroup.columns#Id compras se ha convertido en el index."
   ]
  },
  {
   "cell_type": "code",
   "execution_count": 8,
   "metadata": {},
   "outputs": [
    {
     "data": {
      "text/html": [
       "<div>\n",
       "<style scoped>\n",
       "    .dataframe tbody tr th:only-of-type {\n",
       "        vertical-align: middle;\n",
       "    }\n",
       "\n",
       "    .dataframe tbody tr th {\n",
       "        vertical-align: top;\n",
       "    }\n",
       "\n",
       "    .dataframe thead th {\n",
       "        text-align: right;\n",
       "    }\n",
       "</style>\n",
       "<table border=\"1\" class=\"dataframe\">\n",
       "  <thead>\n",
       "    <tr style=\"text-align: right;\">\n",
       "      <th></th>\n",
       "      <th>item</th>\n",
       "      <th>Numero transaccion</th>\n",
       "    </tr>\n",
       "    <tr>\n",
       "      <th>id_compra</th>\n",
       "      <th></th>\n",
       "      <th></th>\n",
       "    </tr>\n",
       "  </thead>\n",
       "  <tbody>\n",
       "    <tr>\n",
       "      <th>1</th>\n",
       "      <td>citrus fruit,semi-finished bread,margarine,rea...</td>\n",
       "      <td>1</td>\n",
       "    </tr>\n",
       "    <tr>\n",
       "      <th>2</th>\n",
       "      <td>tropical fruit,yogurt,coffee</td>\n",
       "      <td>2</td>\n",
       "    </tr>\n",
       "    <tr>\n",
       "      <th>3</th>\n",
       "      <td>whole milk</td>\n",
       "      <td>3</td>\n",
       "    </tr>\n",
       "    <tr>\n",
       "      <th>4</th>\n",
       "      <td>pip fruit,yogurt,cream cheese,meat spreads</td>\n",
       "      <td>4</td>\n",
       "    </tr>\n",
       "    <tr>\n",
       "      <th>5</th>\n",
       "      <td>other vegetables,whole milk,condensed milk,lon...</td>\n",
       "      <td>5</td>\n",
       "    </tr>\n",
       "    <tr>\n",
       "      <th>...</th>\n",
       "      <td>...</td>\n",
       "      <td>...</td>\n",
       "    </tr>\n",
       "    <tr>\n",
       "      <th>9831</th>\n",
       "      <td>sausage,chicken,beef,hamburger meat,citrus fru...</td>\n",
       "      <td>9831</td>\n",
       "    </tr>\n",
       "    <tr>\n",
       "      <th>9832</th>\n",
       "      <td>cooking chocolate</td>\n",
       "      <td>9832</td>\n",
       "    </tr>\n",
       "    <tr>\n",
       "      <th>9833</th>\n",
       "      <td>chicken,citrus fruit,other vegetables,butter,y...</td>\n",
       "      <td>9833</td>\n",
       "    </tr>\n",
       "    <tr>\n",
       "      <th>9834</th>\n",
       "      <td>semi-finished bread,bottled water,soda,bottled...</td>\n",
       "      <td>9834</td>\n",
       "    </tr>\n",
       "    <tr>\n",
       "      <th>9835</th>\n",
       "      <td>chicken,tropical fruit,other vegetables,vinega...</td>\n",
       "      <td>9835</td>\n",
       "    </tr>\n",
       "  </tbody>\n",
       "</table>\n",
       "<p>9835 rows × 2 columns</p>\n",
       "</div>"
      ],
      "text/plain": [
       "                                                        item  \\\n",
       "id_compra                                                      \n",
       "1          citrus fruit,semi-finished bread,margarine,rea...   \n",
       "2                               tropical fruit,yogurt,coffee   \n",
       "3                                                 whole milk   \n",
       "4                 pip fruit,yogurt,cream cheese,meat spreads   \n",
       "5          other vegetables,whole milk,condensed milk,lon...   \n",
       "...                                                      ...   \n",
       "9831       sausage,chicken,beef,hamburger meat,citrus fru...   \n",
       "9832                                       cooking chocolate   \n",
       "9833       chicken,citrus fruit,other vegetables,butter,y...   \n",
       "9834       semi-finished bread,bottled water,soda,bottled...   \n",
       "9835       chicken,tropical fruit,other vegetables,vinega...   \n",
       "\n",
       "           Numero transaccion  \n",
       "id_compra                      \n",
       "1                           1  \n",
       "2                           2  \n",
       "3                           3  \n",
       "4                           4  \n",
       "5                           5  \n",
       "...                       ...  \n",
       "9831                     9831  \n",
       "9832                     9832  \n",
       "9833                     9833  \n",
       "9834                     9834  \n",
       "9835                     9835  \n",
       "\n",
       "[9835 rows x 2 columns]"
      ]
     },
     "execution_count": 8,
     "metadata": {},
     "output_type": "execute_result"
    }
   ],
   "source": [
    "#Creamos una columna con el numero de la transaccion dado que ahora no se tiene.\n",
    "datagroup['Numero transaccion']=datagroup.index\n",
    "datagroup"
   ]
  },
  {
   "cell_type": "code",
   "execution_count": 9,
   "metadata": {},
   "outputs": [
    {
     "data": {
      "text/html": [
       "<div>\n",
       "<style scoped>\n",
       "    .dataframe tbody tr th:only-of-type {\n",
       "        vertical-align: middle;\n",
       "    }\n",
       "\n",
       "    .dataframe tbody tr th {\n",
       "        vertical-align: top;\n",
       "    }\n",
       "\n",
       "    .dataframe thead th {\n",
       "        text-align: right;\n",
       "    }\n",
       "</style>\n",
       "<table border=\"1\" class=\"dataframe\">\n",
       "  <thead>\n",
       "    <tr style=\"text-align: right;\">\n",
       "      <th></th>\n",
       "      <th>Numero transaccion</th>\n",
       "      <th>item</th>\n",
       "    </tr>\n",
       "    <tr>\n",
       "      <th>id_compra</th>\n",
       "      <th></th>\n",
       "      <th></th>\n",
       "    </tr>\n",
       "  </thead>\n",
       "  <tbody>\n",
       "    <tr>\n",
       "      <th>1</th>\n",
       "      <td>1</td>\n",
       "      <td>citrus fruit,semi-finished bread,margarine,rea...</td>\n",
       "    </tr>\n",
       "    <tr>\n",
       "      <th>2</th>\n",
       "      <td>2</td>\n",
       "      <td>tropical fruit,yogurt,coffee</td>\n",
       "    </tr>\n",
       "    <tr>\n",
       "      <th>3</th>\n",
       "      <td>3</td>\n",
       "      <td>whole milk</td>\n",
       "    </tr>\n",
       "    <tr>\n",
       "      <th>4</th>\n",
       "      <td>4</td>\n",
       "      <td>pip fruit,yogurt,cream cheese,meat spreads</td>\n",
       "    </tr>\n",
       "    <tr>\n",
       "      <th>5</th>\n",
       "      <td>5</td>\n",
       "      <td>other vegetables,whole milk,condensed milk,lon...</td>\n",
       "    </tr>\n",
       "    <tr>\n",
       "      <th>...</th>\n",
       "      <td>...</td>\n",
       "      <td>...</td>\n",
       "    </tr>\n",
       "    <tr>\n",
       "      <th>9831</th>\n",
       "      <td>9831</td>\n",
       "      <td>sausage,chicken,beef,hamburger meat,citrus fru...</td>\n",
       "    </tr>\n",
       "    <tr>\n",
       "      <th>9832</th>\n",
       "      <td>9832</td>\n",
       "      <td>cooking chocolate</td>\n",
       "    </tr>\n",
       "    <tr>\n",
       "      <th>9833</th>\n",
       "      <td>9833</td>\n",
       "      <td>chicken,citrus fruit,other vegetables,butter,y...</td>\n",
       "    </tr>\n",
       "    <tr>\n",
       "      <th>9834</th>\n",
       "      <td>9834</td>\n",
       "      <td>semi-finished bread,bottled water,soda,bottled...</td>\n",
       "    </tr>\n",
       "    <tr>\n",
       "      <th>9835</th>\n",
       "      <td>9835</td>\n",
       "      <td>chicken,tropical fruit,other vegetables,vinega...</td>\n",
       "    </tr>\n",
       "  </tbody>\n",
       "</table>\n",
       "<p>9835 rows × 2 columns</p>\n",
       "</div>"
      ],
      "text/plain": [
       "           Numero transaccion  \\\n",
       "id_compra                       \n",
       "1                           1   \n",
       "2                           2   \n",
       "3                           3   \n",
       "4                           4   \n",
       "5                           5   \n",
       "...                       ...   \n",
       "9831                     9831   \n",
       "9832                     9832   \n",
       "9833                     9833   \n",
       "9834                     9834   \n",
       "9835                     9835   \n",
       "\n",
       "                                                        item  \n",
       "id_compra                                                     \n",
       "1          citrus fruit,semi-finished bread,margarine,rea...  \n",
       "2                               tropical fruit,yogurt,coffee  \n",
       "3                                                 whole milk  \n",
       "4                 pip fruit,yogurt,cream cheese,meat spreads  \n",
       "5          other vegetables,whole milk,condensed milk,lon...  \n",
       "...                                                      ...  \n",
       "9831       sausage,chicken,beef,hamburger meat,citrus fru...  \n",
       "9832                                       cooking chocolate  \n",
       "9833       chicken,citrus fruit,other vegetables,butter,y...  \n",
       "9834       semi-finished bread,bottled water,soda,bottled...  \n",
       "9835       chicken,tropical fruit,other vegetables,vinega...  \n",
       "\n",
       "[9835 rows x 2 columns]"
      ]
     },
     "execution_count": 9,
     "metadata": {},
     "output_type": "execute_result"
    }
   ],
   "source": [
    "#Reordenamoms las columnas \n",
    "data = datagroup[['Numero transaccion','item']]\n",
    "data"
   ]
  },
  {
   "cell_type": "code",
   "execution_count": 10,
   "metadata": {},
   "outputs": [
    {
     "data": {
      "text/plain": [
       "Numero transaccion    0\n",
       "item                  0\n",
       "dtype: int64"
      ]
     },
     "execution_count": 10,
     "metadata": {},
     "output_type": "execute_result"
    }
   ],
   "source": [
    "data.isnull().sum()# missing values"
   ]
  },
  {
   "cell_type": "markdown",
   "metadata": {},
   "source": [
    "# 1.Prueba al menos dos configuraciones de soporte. Para una de ellas, interpreta algunos de los patrones secuenciales que te resulten curiosos. "
   ]
  },
  {
   "cell_type": "markdown",
   "metadata": {},
   "source": [
    "Haremos la configuracion de soporte para determinados productos que en este caso seran los mas comprados para asi mostrar los patrones que me han resultado curiosos."
   ]
  },
  {
   "cell_type": "code",
   "execution_count": 11,
   "metadata": {},
   "outputs": [
    {
     "data": {
      "text/plain": [
       "whole milk               2513\n",
       "other vegetables         1903\n",
       "rolls/buns               1809\n",
       "soda                     1715\n",
       "yogurt                   1372\n",
       "                         ... \n",
       "bags                        4\n",
       "kitchen utensil             4\n",
       "preservation products       2\n",
       "sound storage medium        1\n",
       "baby food                   1\n",
       "Name: item, Length: 169, dtype: int64"
      ]
     },
     "execution_count": 11,
     "metadata": {},
     "output_type": "execute_result"
    }
   ],
   "source": [
    "dataorig.item.value_counts()#utilizamos el dataframe original dado que en este los items se encuentra por separado"
   ]
  },
  {
   "cell_type": "code",
   "execution_count": 12,
   "metadata": {},
   "outputs": [
    {
     "data": {
      "text/plain": [
       "pandas.core.series.Series"
      ]
     },
     "execution_count": 12,
     "metadata": {},
     "output_type": "execute_result"
    }
   ],
   "source": [
    "type(data['item'])#Mostramos el tipo "
   ]
  },
  {
   "cell_type": "code",
   "execution_count": 13,
   "metadata": {},
   "outputs": [
    {
     "data": {
      "text/plain": [
       "numpy.ndarray"
      ]
     },
     "execution_count": 13,
     "metadata": {},
     "output_type": "execute_result"
    }
   ],
   "source": [
    "type(data.values[0])#Mostramos el tipo "
   ]
  },
  {
   "cell_type": "markdown",
   "metadata": {},
   "source": [
    "Dado que ahora los items estan combinados, buscamos las rows que contengan dicho elemento"
   ]
  },
  {
   "cell_type": "markdown",
   "metadata": {},
   "source": [
    "Estos productos son 'whole milk', 'other vegetables', 'rolls/buns' y 'soda'"
   ]
  },
  {
   "cell_type": "code",
   "execution_count": 14,
   "metadata": {},
   "outputs": [],
   "source": [
    "#Guardamos en un array los productos que queramos, en este caso, los mas comprados.\n",
    "#array para los nombres\n",
    "productos=['milk','vegetables','rolls','soda']\n",
    "#array para las rows de los productos\n",
    "productosdata=['milk','vegetables','rolls','soda']"
   ]
  },
  {
   "cell_type": "code",
   "execution_count": 15,
   "metadata": {},
   "outputs": [
    {
     "name": "stdout",
     "output_type": "stream",
     "text": [
      "EL PRODUCTO ES:  milk\n",
      "[[3 'whole milk']\n",
      " [5 'other vegetables,whole milk,condensed milk,long life bakery product']\n",
      " [6 'whole milk,butter,yogurt,rice,abrasive cleaner']\n",
      " ...\n",
      " [9822\n",
      "  'pip fruit,grapes,berries,other vegetables,whole milk,UHT-milk,rolls/buns,zwieback,bottled water,soda,red/blush wine,specialty bar']\n",
      " [9828\n",
      "  'frankfurter,tropical fruit,other vegetables,whole milk,frozen meals,rolls/buns,detergent,napkins,newspapers']\n",
      " [9831\n",
      "  'sausage,chicken,beef,hamburger meat,citrus fruit,grapes,root vegetables,whole milk,butter,whipped/sour cream,flour,coffee,red/blush wine,salty snack,chocolate,hygiene articles,napkins']]\n",
      "EL PRODUCTO ES:  vegetables\n",
      "[[5 'other vegetables,whole milk,condensed milk,long life bakery product']\n",
      " [8\n",
      "  'other vegetables,UHT-milk,rolls/buns,bottled beer,liquor (appetizer)']\n",
      " [11\n",
      "  'tropical fruit,other vegetables,white bread,bottled water,chocolate']\n",
      " ...\n",
      " [9831\n",
      "  'sausage,chicken,beef,hamburger meat,citrus fruit,grapes,root vegetables,whole milk,butter,whipped/sour cream,flour,coffee,red/blush wine,salty snack,chocolate,hygiene articles,napkins']\n",
      " [9833\n",
      "  'chicken,citrus fruit,other vegetables,butter,yogurt,frozen dessert,domestic eggs,rolls/buns,rum,cling film/bags']\n",
      " [9835 'chicken,tropical fruit,other vegetables,vinegar,shopping bags']]\n",
      "EL PRODUCTO ES:  rolls\n",
      "[[7 'rolls/buns']\n",
      " [8\n",
      "  'other vegetables,UHT-milk,rolls/buns,bottled beer,liquor (appetizer)']\n",
      " [14 'frankfurter,rolls/buns,soda']\n",
      " ...\n",
      " [9828\n",
      "  'frankfurter,tropical fruit,other vegetables,whole milk,frozen meals,rolls/buns,detergent,napkins,newspapers']\n",
      " [9829\n",
      "  'sausage,butter,rolls/buns,pickled vegetables,soda,fruit/vegetable juice,waffles']\n",
      " [9833\n",
      "  'chicken,citrus fruit,other vegetables,butter,yogurt,frozen dessert,domestic eggs,rolls/buns,rum,cling film/bags']]\n",
      "EL PRODUCTO ES:  soda\n",
      "[[14 'frankfurter,rolls/buns,soda']\n",
      " [28 'sausage,rolls/buns,soda,chocolate']\n",
      " [30\n",
      "  'brown bread,soda,fruit/vegetable juice,canned beer,newspapers,shopping bags']\n",
      " ...\n",
      " [9829\n",
      "  'sausage,butter,rolls/buns,pickled vegetables,soda,fruit/vegetable juice,waffles']\n",
      " [9830\n",
      "  'tropical fruit,other vegetables,domestic eggs,zwieback,ketchup,soda,dishes']\n",
      " [9834 'semi-finished bread,bottled water,soda,bottled beer']]\n"
     ]
    }
   ],
   "source": [
    "#Iteramos para todos los productos y los guardamos en su variable.\n",
    "for idx,var in enumerate(productos):\n",
    "    print('EL PRODUCTO ES: ',var)\n",
    "    #Buscamos dentro del dataframe las rows que contienen dicho elemento\n",
    "    productosdata[idx]=np.array(data[data['item'].str.contains(var)])\n",
    "    print(productosdata[idx])#imprimimos las rows que contienen dicho producto"
   ]
  },
  {
   "cell_type": "code",
   "execution_count": 16,
   "metadata": {},
   "outputs": [
    {
     "name": "stdout",
     "output_type": "stream",
     "text": [
      "EL GSP DE LA VARIABLE: MILK\n",
      "Soporte de: 0.01\n",
      "[{('whole milk',): 121}]\n",
      "Soporte de: 0.02\n",
      "[{('whole milk',): 121}]\n",
      "\n",
      "EL GSP DE LA VARIABLE: VEGETABLES\n",
      "Soporte de: 0.01\n",
      "[{('other vegetables',): 62}]\n",
      "Soporte de: 0.02\n",
      "[{('other vegetables',): 62}]\n",
      "\n",
      "EL GSP DE LA VARIABLE: ROLLS\n",
      "Soporte de: 0.01\n",
      "[{('rolls/buns',): 109, ('rolls/buns,soda',): 23}]\n",
      "Soporte de: 0.02\n",
      "[{('rolls/buns',): 109}]\n",
      "\n",
      "EL GSP DE LA VARIABLE: SODA\n",
      "Soporte de: 0.01\n",
      "[{('pastry,soda',): 27, ('soda',): 156, ('rolls/buns,soda',): 23}]\n",
      "Soporte de: 0.02\n",
      "[{('soda',): 156}]\n",
      "\n"
     ]
    }
   ],
   "source": [
    "#Realizamos el GSP de las variables para un soporte de 0.01 y 0.02\n",
    "#Creamos el array donde se guardaran los datos del GSP\n",
    "#Escogemos GSP bajos dado que en el caso de escoger numeros altos como 0,1 o 0,2 no saca resultados\n",
    "gsp1=[0,0,0,0]\n",
    "gsp2=[0,0,0,0]\n",
    "for i in range(0,len(productosdata)):\n",
    "    print('EL GSP DE LA VARIABLE:',productos[i].upper())\n",
    "    print('Soporte de: 0.01')\n",
    "    gsp1[i] = GSP(productosdata[i]).search(0.01)\n",
    "    print(str(gsp1[i]))\n",
    "    print('Soporte de: 0.02')\n",
    "    gsp2[i] = GSP(productosdata[i]).search(0.02)\n",
    "    print(str(gsp2[i])+'\\n')"
   ]
  },
  {
   "cell_type": "markdown",
   "metadata": {},
   "source": [
    "Viendo los resultados analizaremos los productos con los soportes de 0.01 para poder sacar alguna interpretacion."
   ]
  },
  {
   "cell_type": "code",
   "execution_count": 17,
   "metadata": {},
   "outputs": [
    {
     "name": "stdout",
     "output_type": "stream",
     "text": [
      "PRODUCTO:  MILK\n",
      "[{('whole milk',): 121}]\n",
      "PRODUCTO:  VEGETABLES\n",
      "[{('other vegetables',): 62}]\n",
      "PRODUCTO:  ROLLS\n",
      "[{('rolls/buns',): 109, ('rolls/buns,soda',): 23}]\n",
      "PRODUCTO:  SODA\n",
      "[{('pastry,soda',): 27, ('soda',): 156, ('rolls/buns,soda',): 23}]\n"
     ]
    }
   ],
   "source": [
    "#Resultados soporte 0,01\n",
    "for i in range(0,len(gsp1)):\n",
    "    print('PRODUCTO: ',productos[i].upper())\n",
    "    print(gsp1[i])"
   ]
  },
  {
   "cell_type": "markdown",
   "metadata": {},
   "source": [
    "Interpretacion:\n",
    "1. Podemos ver que en el caso de la compra de la leche se compra solo dicho producto.\n",
    "2. Ocurre de la misma forma con el caso de la variable 'other vegetables' que se compra unicamente dicho producto.\n",
    "3. En el caso de 'rolls/buns' se compra unicamente dicho item en cambio tambien se compra con la siguiente variable , es decir, soda.\n",
    "4. Por ultimo en el caso de 'soda' se compra de varias formas, o solo se compra dicho item o se compra con la variable 'rolls/buns' o se compra con 'pastry'.\n",
    "\n",
    "Es curioso dado que las dos primeras variables, es decir, 'whole milk' y 'other vegetables' son los items mas comprados. Por ello se podria pensar que hubiera mas compras que superaran el soporte que las compras de las otras variables que hemos analizado y que como hemos visto se compran menos pero, sin embargo, es al reves."
   ]
  },
  {
   "cell_type": "markdown",
   "metadata": {},
   "source": [
    "# Utiliza al menos dos representaciones gráficas para representar los patrones secuenciales obtenidos e interpretar los datos."
   ]
  },
  {
   "cell_type": "code",
   "execution_count": 18,
   "metadata": {},
   "outputs": [
    {
     "data": {
      "text/plain": [
       "dict"
      ]
     },
     "execution_count": 18,
     "metadata": {},
     "output_type": "execute_result"
    }
   ],
   "source": [
    "type(gsp1[2][0])#Mostramos el tipo de lo que se quiere imprimir"
   ]
  },
  {
   "cell_type": "code",
   "execution_count": 19,
   "metadata": {},
   "outputs": [
    {
     "name": "stdout",
     "output_type": "stream",
     "text": [
      "{('rolls/buns',): 109, ('rolls/buns,soda',): 23}\n"
     ]
    }
   ],
   "source": [
    "print(gsp1[2][0])"
   ]
  },
  {
   "cell_type": "code",
   "execution_count": 20,
   "metadata": {},
   "outputs": [],
   "source": [
    "#Convertimos los resultados en dataframe para su visualizacion\n",
    "milk=pd.DataFrame(gsp1[0])\n",
    "vegetables=pd.DataFrame(gsp1[1])\n",
    "buns=pd.DataFrame(gsp1[2])\n",
    "soda=pd.DataFrame(gsp1[3])"
   ]
  },
  {
   "cell_type": "code",
   "execution_count": 21,
   "metadata": {},
   "outputs": [
    {
     "data": {
      "text/html": [
       "<div>\n",
       "<style scoped>\n",
       "    .dataframe tbody tr th:only-of-type {\n",
       "        vertical-align: middle;\n",
       "    }\n",
       "\n",
       "    .dataframe tbody tr th {\n",
       "        vertical-align: top;\n",
       "    }\n",
       "\n",
       "    .dataframe thead th {\n",
       "        text-align: right;\n",
       "    }\n",
       "</style>\n",
       "<table border=\"1\" class=\"dataframe\">\n",
       "  <thead>\n",
       "    <tr style=\"text-align: right;\">\n",
       "      <th></th>\n",
       "      <th>(whole milk,)</th>\n",
       "    </tr>\n",
       "  </thead>\n",
       "  <tbody>\n",
       "    <tr>\n",
       "      <th>0</th>\n",
       "      <td>121</td>\n",
       "    </tr>\n",
       "  </tbody>\n",
       "</table>\n",
       "</div>"
      ],
      "text/plain": [
       "   (whole milk,)\n",
       "0            121"
      ]
     },
     "execution_count": 21,
     "metadata": {},
     "output_type": "execute_result"
    }
   ],
   "source": [
    "milk#Muestra de los dataframes"
   ]
  },
  {
   "cell_type": "code",
   "execution_count": 22,
   "metadata": {},
   "outputs": [
    {
     "data": {
      "text/html": [
       "<div>\n",
       "<style scoped>\n",
       "    .dataframe tbody tr th:only-of-type {\n",
       "        vertical-align: middle;\n",
       "    }\n",
       "\n",
       "    .dataframe tbody tr th {\n",
       "        vertical-align: top;\n",
       "    }\n",
       "\n",
       "    .dataframe thead th {\n",
       "        text-align: right;\n",
       "    }\n",
       "</style>\n",
       "<table border=\"1\" class=\"dataframe\">\n",
       "  <thead>\n",
       "    <tr style=\"text-align: right;\">\n",
       "      <th></th>\n",
       "      <th>(other vegetables,)</th>\n",
       "    </tr>\n",
       "  </thead>\n",
       "  <tbody>\n",
       "    <tr>\n",
       "      <th>0</th>\n",
       "      <td>62</td>\n",
       "    </tr>\n",
       "  </tbody>\n",
       "</table>\n",
       "</div>"
      ],
      "text/plain": [
       "   (other vegetables,)\n",
       "0                   62"
      ]
     },
     "execution_count": 22,
     "metadata": {},
     "output_type": "execute_result"
    }
   ],
   "source": [
    "vegetables"
   ]
  },
  {
   "cell_type": "code",
   "execution_count": 23,
   "metadata": {},
   "outputs": [
    {
     "data": {
      "text/html": [
       "<div>\n",
       "<style scoped>\n",
       "    .dataframe tbody tr th:only-of-type {\n",
       "        vertical-align: middle;\n",
       "    }\n",
       "\n",
       "    .dataframe tbody tr th {\n",
       "        vertical-align: top;\n",
       "    }\n",
       "\n",
       "    .dataframe thead th {\n",
       "        text-align: right;\n",
       "    }\n",
       "</style>\n",
       "<table border=\"1\" class=\"dataframe\">\n",
       "  <thead>\n",
       "    <tr style=\"text-align: right;\">\n",
       "      <th></th>\n",
       "      <th>(rolls/buns,)</th>\n",
       "      <th>(rolls/buns,soda,)</th>\n",
       "    </tr>\n",
       "  </thead>\n",
       "  <tbody>\n",
       "    <tr>\n",
       "      <th>0</th>\n",
       "      <td>109</td>\n",
       "      <td>23</td>\n",
       "    </tr>\n",
       "  </tbody>\n",
       "</table>\n",
       "</div>"
      ],
      "text/plain": [
       "   (rolls/buns,)  (rolls/buns,soda,)\n",
       "0            109                  23"
      ]
     },
     "execution_count": 23,
     "metadata": {},
     "output_type": "execute_result"
    }
   ],
   "source": [
    "buns"
   ]
  },
  {
   "cell_type": "code",
   "execution_count": 24,
   "metadata": {},
   "outputs": [
    {
     "data": {
      "text/html": [
       "<div>\n",
       "<style scoped>\n",
       "    .dataframe tbody tr th:only-of-type {\n",
       "        vertical-align: middle;\n",
       "    }\n",
       "\n",
       "    .dataframe tbody tr th {\n",
       "        vertical-align: top;\n",
       "    }\n",
       "\n",
       "    .dataframe thead th {\n",
       "        text-align: right;\n",
       "    }\n",
       "</style>\n",
       "<table border=\"1\" class=\"dataframe\">\n",
       "  <thead>\n",
       "    <tr style=\"text-align: right;\">\n",
       "      <th></th>\n",
       "      <th>(pastry,soda,)</th>\n",
       "      <th>(soda,)</th>\n",
       "      <th>(rolls/buns,soda,)</th>\n",
       "    </tr>\n",
       "  </thead>\n",
       "  <tbody>\n",
       "    <tr>\n",
       "      <th>0</th>\n",
       "      <td>27</td>\n",
       "      <td>156</td>\n",
       "      <td>23</td>\n",
       "    </tr>\n",
       "  </tbody>\n",
       "</table>\n",
       "</div>"
      ],
      "text/plain": [
       "   (pastry,soda,)  (soda,)  (rolls/buns,soda,)\n",
       "0              27      156                  23"
      ]
     },
     "execution_count": 24,
     "metadata": {},
     "output_type": "execute_result"
    }
   ],
   "source": [
    "soda"
   ]
  },
  {
   "cell_type": "code",
   "execution_count": 25,
   "metadata": {},
   "outputs": [],
   "source": [
    "#Guardamos los values de los productos en los que se han comprado solo ese item para realizar una comparacion.\n",
    "milk=milk.values\n",
    "milk=milk[0][0]"
   ]
  },
  {
   "cell_type": "code",
   "execution_count": 26,
   "metadata": {},
   "outputs": [],
   "source": [
    "vegetables=vegetables.values\n",
    "vegetables=vegetables[0][0]"
   ]
  },
  {
   "cell_type": "code",
   "execution_count": 27,
   "metadata": {},
   "outputs": [],
   "source": [
    "buns=buns.values\n",
    "buns=buns[0][0]"
   ]
  },
  {
   "cell_type": "code",
   "execution_count": 28,
   "metadata": {},
   "outputs": [],
   "source": [
    "soda=soda.values\n",
    "soda=soda[0][1]"
   ]
  },
  {
   "cell_type": "code",
   "execution_count": 29,
   "metadata": {},
   "outputs": [
    {
     "data": {
      "text/html": [
       "<div>\n",
       "<style scoped>\n",
       "    .dataframe tbody tr th:only-of-type {\n",
       "        vertical-align: middle;\n",
       "    }\n",
       "\n",
       "    .dataframe tbody tr th {\n",
       "        vertical-align: top;\n",
       "    }\n",
       "\n",
       "    .dataframe thead th {\n",
       "        text-align: right;\n",
       "    }\n",
       "</style>\n",
       "<table border=\"1\" class=\"dataframe\">\n",
       "  <thead>\n",
       "    <tr style=\"text-align: right;\">\n",
       "      <th></th>\n",
       "      <th>variable</th>\n",
       "    </tr>\n",
       "  </thead>\n",
       "  <tbody>\n",
       "    <tr>\n",
       "      <th>milk</th>\n",
       "      <td>121</td>\n",
       "    </tr>\n",
       "    <tr>\n",
       "      <th>vegetables</th>\n",
       "      <td>62</td>\n",
       "    </tr>\n",
       "    <tr>\n",
       "      <th>rolls</th>\n",
       "      <td>109</td>\n",
       "    </tr>\n",
       "    <tr>\n",
       "      <th>soda</th>\n",
       "      <td>156</td>\n",
       "    </tr>\n",
       "  </tbody>\n",
       "</table>\n",
       "</div>"
      ],
      "text/plain": [
       "            variable\n",
       "milk             121\n",
       "vegetables        62\n",
       "rolls            109\n",
       "soda             156"
      ]
     },
     "execution_count": 29,
     "metadata": {},
     "output_type": "execute_result"
    }
   ],
   "source": [
    "#Creamos un dataframe para facilitar la visualizacion de los datos\n",
    "#Creamos el dataframe con los datos sobre la cantidad de los items que se compran de forma independiente y como index el nombre de las variables.\n",
    "dataframe = pd.DataFrame(columns=['variable'], data=[milk,vegetables,buns,soda], index= productos)\n",
    "dataframe"
   ]
  },
  {
   "cell_type": "code",
   "execution_count": 30,
   "metadata": {},
   "outputs": [
    {
     "data": {
      "text/plain": [
       "<AxesSubplot:>"
      ]
     },
     "execution_count": 30,
     "metadata": {},
     "output_type": "execute_result"
    },
    {
     "data": {
      "image/png": "[encoded data removed]",
      "text/plain": [
       "<Figure size 432x288 with 1 Axes>"
      ]
     },
     "metadata": {
      "needs_background": "light"
     },
     "output_type": "display_data"
    }
   ],
   "source": [
    "dataframe.plot(kind='bar')"
   ]
  },
  {
   "cell_type": "code",
   "execution_count": 31,
   "metadata": {},
   "outputs": [
    {
     "name": "stdout",
     "output_type": "stream",
     "text": [
      "         variable\n",
      "count    4.000000\n",
      "mean   112.000000\n",
      "std     38.841558\n",
      "min     62.000000\n",
      "25%     97.250000\n",
      "50%    115.000000\n",
      "75%    129.750000\n",
      "max    156.000000\n"
     ]
    },
    {
     "data": {
      "image/png": "[encoded data removed]",
      "text/plain": [
       "<Figure size 432x288 with 1 Axes>"
      ]
     },
     "metadata": {
      "needs_background": "light"
     },
     "output_type": "display_data"
    }
   ],
   "source": [
    "print(dataframe.describe())\n",
    "plt.boxplot(dataframe)\n",
    "plt.show()"
   ]
  },
  {
   "cell_type": "markdown",
   "metadata": {},
   "source": [
    "Como podemos ver el caso de soda, se trata de un maximo.\n",
    "En el caso de vegetables se trata del minimo, y se pude ver tanto rolls como milk se encuentran entre el maximo de soda y el minimo de vegetables.\n",
    "Segun el describe de los datos y viendo el boxplot podemos ver que la media se encuentra en 112."
   ]
  },
  {
   "cell_type": "markdown",
   "metadata": {},
   "source": [
    "# REFERENCIAS\n",
    "https://pandas.pydata.org/pandas-docs/stable/reference/api/pandas.DataFrame.apply.html\n",
    "https://pandas.pydata.org/pandas-docs/stable/reference/api/pandas.DataFrame.join.html"
   ]
  }
 ],
 "metadata": {
  "kernelspec": {
   "display_name": "Python 3",
   "language": "python",
   "name": "python3"
  },
  "language_info": {
   "codemirror_mode": {
    "name": "ipython",
    "version": 3
   },
   "file_extension": ".py",
   "mimetype": "text/x-python",
   "name": "python",
   "nbconvert_exporter": "python",
   "pygments_lexer": "ipython3",
   "version": "3.8.5"
  }
 },
 "nbformat": 4,
 "nbformat_minor": 4
}
