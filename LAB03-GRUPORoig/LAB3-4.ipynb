{
 "cells": [
  {
   "cell_type": "code",
   "execution_count": 1,
   "metadata": {},
   "outputs": [],
   "source": [
    "import pandas as pd\n",
    "import numpy as np\n",
    "import matplotlib.pyplot as plt\n",
    "from sklearn.neighbors import KNeighborsClassifier\n",
    "from sklearn.model_selection import train_test_split\n",
    "from sklearn.metrics import confusion_matrix\n",
    "import os#para eliminar csv\n",
    "plt.style.use('ggplot')"
   ]
  },
  {
   "cell_type": "code",
   "execution_count": 2,
   "metadata": {},
   "outputs": [
    {
     "data": {
      "text/html": [
       "<div>\n",
       "<style scoped>\n",
       "    .dataframe tbody tr th:only-of-type {\n",
       "        vertical-align: middle;\n",
       "    }\n",
       "\n",
       "    .dataframe tbody tr th {\n",
       "        vertical-align: top;\n",
       "    }\n",
       "\n",
       "    .dataframe thead th {\n",
       "        text-align: right;\n",
       "    }\n",
       "</style>\n",
       "<table border=\"1\" class=\"dataframe\">\n",
       "  <thead>\n",
       "    <tr style=\"text-align: right;\">\n",
       "      <th></th>\n",
       "      <th>hotel</th>\n",
       "      <th>is_canceled</th>\n",
       "      <th>lead_time</th>\n",
       "      <th>arrival_date_year</th>\n",
       "      <th>arrival_date_month</th>\n",
       "      <th>arrival_date_week_number</th>\n",
       "      <th>arrival_date_day_of_month</th>\n",
       "      <th>stays_in_weekend_nights</th>\n",
       "      <th>stays_in_week_nights</th>\n",
       "      <th>adults</th>\n",
       "      <th>...</th>\n",
       "      <th>deposit_type</th>\n",
       "      <th>agent</th>\n",
       "      <th>company</th>\n",
       "      <th>days_in_waiting_list</th>\n",
       "      <th>customer_type</th>\n",
       "      <th>adr</th>\n",
       "      <th>required_car_parking_spaces</th>\n",
       "      <th>total_of_special_requests</th>\n",
       "      <th>reservation_status</th>\n",
       "      <th>reservation_status_date</th>\n",
       "    </tr>\n",
       "  </thead>\n",
       "  <tbody>\n",
       "    <tr>\n",
       "      <th>0</th>\n",
       "      <td>Resort Hotel</td>\n",
       "      <td>0</td>\n",
       "      <td>342</td>\n",
       "      <td>2015</td>\n",
       "      <td>July</td>\n",
       "      <td>27</td>\n",
       "      <td>1</td>\n",
       "      <td>0</td>\n",
       "      <td>0</td>\n",
       "      <td>2</td>\n",
       "      <td>...</td>\n",
       "      <td>No Deposit</td>\n",
       "      <td>NaN</td>\n",
       "      <td>NaN</td>\n",
       "      <td>0</td>\n",
       "      <td>Transient</td>\n",
       "      <td>0.00</td>\n",
       "      <td>0</td>\n",
       "      <td>0</td>\n",
       "      <td>Check-Out</td>\n",
       "      <td>2015-07-01</td>\n",
       "    </tr>\n",
       "    <tr>\n",
       "      <th>1</th>\n",
       "      <td>Resort Hotel</td>\n",
       "      <td>0</td>\n",
       "      <td>737</td>\n",
       "      <td>2015</td>\n",
       "      <td>July</td>\n",
       "      <td>27</td>\n",
       "      <td>1</td>\n",
       "      <td>0</td>\n",
       "      <td>0</td>\n",
       "      <td>2</td>\n",
       "      <td>...</td>\n",
       "      <td>No Deposit</td>\n",
       "      <td>NaN</td>\n",
       "      <td>NaN</td>\n",
       "      <td>0</td>\n",
       "      <td>Transient</td>\n",
       "      <td>0.00</td>\n",
       "      <td>0</td>\n",
       "      <td>0</td>\n",
       "      <td>Check-Out</td>\n",
       "      <td>2015-07-01</td>\n",
       "    </tr>\n",
       "    <tr>\n",
       "      <th>2</th>\n",
       "      <td>Resort Hotel</td>\n",
       "      <td>0</td>\n",
       "      <td>7</td>\n",
       "      <td>2015</td>\n",
       "      <td>July</td>\n",
       "      <td>27</td>\n",
       "      <td>1</td>\n",
       "      <td>0</td>\n",
       "      <td>1</td>\n",
       "      <td>1</td>\n",
       "      <td>...</td>\n",
       "      <td>No Deposit</td>\n",
       "      <td>NaN</td>\n",
       "      <td>NaN</td>\n",
       "      <td>0</td>\n",
       "      <td>Transient</td>\n",
       "      <td>75.00</td>\n",
       "      <td>0</td>\n",
       "      <td>0</td>\n",
       "      <td>Check-Out</td>\n",
       "      <td>2015-07-02</td>\n",
       "    </tr>\n",
       "    <tr>\n",
       "      <th>3</th>\n",
       "      <td>Resort Hotel</td>\n",
       "      <td>0</td>\n",
       "      <td>13</td>\n",
       "      <td>2015</td>\n",
       "      <td>July</td>\n",
       "      <td>27</td>\n",
       "      <td>1</td>\n",
       "      <td>0</td>\n",
       "      <td>1</td>\n",
       "      <td>1</td>\n",
       "      <td>...</td>\n",
       "      <td>No Deposit</td>\n",
       "      <td>304.0</td>\n",
       "      <td>NaN</td>\n",
       "      <td>0</td>\n",
       "      <td>Transient</td>\n",
       "      <td>75.00</td>\n",
       "      <td>0</td>\n",
       "      <td>0</td>\n",
       "      <td>Check-Out</td>\n",
       "      <td>2015-07-02</td>\n",
       "    </tr>\n",
       "    <tr>\n",
       "      <th>4</th>\n",
       "      <td>Resort Hotel</td>\n",
       "      <td>0</td>\n",
       "      <td>14</td>\n",
       "      <td>2015</td>\n",
       "      <td>July</td>\n",
       "      <td>27</td>\n",
       "      <td>1</td>\n",
       "      <td>0</td>\n",
       "      <td>2</td>\n",
       "      <td>2</td>\n",
       "      <td>...</td>\n",
       "      <td>No Deposit</td>\n",
       "      <td>240.0</td>\n",
       "      <td>NaN</td>\n",
       "      <td>0</td>\n",
       "      <td>Transient</td>\n",
       "      <td>98.00</td>\n",
       "      <td>0</td>\n",
       "      <td>1</td>\n",
       "      <td>Check-Out</td>\n",
       "      <td>2015-07-03</td>\n",
       "    </tr>\n",
       "    <tr>\n",
       "      <th>...</th>\n",
       "      <td>...</td>\n",
       "      <td>...</td>\n",
       "      <td>...</td>\n",
       "      <td>...</td>\n",
       "      <td>...</td>\n",
       "      <td>...</td>\n",
       "      <td>...</td>\n",
       "      <td>...</td>\n",
       "      <td>...</td>\n",
       "      <td>...</td>\n",
       "      <td>...</td>\n",
       "      <td>...</td>\n",
       "      <td>...</td>\n",
       "      <td>...</td>\n",
       "      <td>...</td>\n",
       "      <td>...</td>\n",
       "      <td>...</td>\n",
       "      <td>...</td>\n",
       "      <td>...</td>\n",
       "      <td>...</td>\n",
       "      <td>...</td>\n",
       "    </tr>\n",
       "    <tr>\n",
       "      <th>119385</th>\n",
       "      <td>City Hotel</td>\n",
       "      <td>0</td>\n",
       "      <td>23</td>\n",
       "      <td>2017</td>\n",
       "      <td>August</td>\n",
       "      <td>35</td>\n",
       "      <td>30</td>\n",
       "      <td>2</td>\n",
       "      <td>5</td>\n",
       "      <td>2</td>\n",
       "      <td>...</td>\n",
       "      <td>No Deposit</td>\n",
       "      <td>394.0</td>\n",
       "      <td>NaN</td>\n",
       "      <td>0</td>\n",
       "      <td>Transient</td>\n",
       "      <td>96.14</td>\n",
       "      <td>0</td>\n",
       "      <td>0</td>\n",
       "      <td>Check-Out</td>\n",
       "      <td>2017-09-06</td>\n",
       "    </tr>\n",
       "    <tr>\n",
       "      <th>119386</th>\n",
       "      <td>City Hotel</td>\n",
       "      <td>0</td>\n",
       "      <td>102</td>\n",
       "      <td>2017</td>\n",
       "      <td>August</td>\n",
       "      <td>35</td>\n",
       "      <td>31</td>\n",
       "      <td>2</td>\n",
       "      <td>5</td>\n",
       "      <td>3</td>\n",
       "      <td>...</td>\n",
       "      <td>No Deposit</td>\n",
       "      <td>9.0</td>\n",
       "      <td>NaN</td>\n",
       "      <td>0</td>\n",
       "      <td>Transient</td>\n",
       "      <td>225.43</td>\n",
       "      <td>0</td>\n",
       "      <td>2</td>\n",
       "      <td>Check-Out</td>\n",
       "      <td>2017-09-07</td>\n",
       "    </tr>\n",
       "    <tr>\n",
       "      <th>119387</th>\n",
       "      <td>City Hotel</td>\n",
       "      <td>0</td>\n",
       "      <td>34</td>\n",
       "      <td>2017</td>\n",
       "      <td>August</td>\n",
       "      <td>35</td>\n",
       "      <td>31</td>\n",
       "      <td>2</td>\n",
       "      <td>5</td>\n",
       "      <td>2</td>\n",
       "      <td>...</td>\n",
       "      <td>No Deposit</td>\n",
       "      <td>9.0</td>\n",
       "      <td>NaN</td>\n",
       "      <td>0</td>\n",
       "      <td>Transient</td>\n",
       "      <td>157.71</td>\n",
       "      <td>0</td>\n",
       "      <td>4</td>\n",
       "      <td>Check-Out</td>\n",
       "      <td>2017-09-07</td>\n",
       "    </tr>\n",
       "    <tr>\n",
       "      <th>119388</th>\n",
       "      <td>City Hotel</td>\n",
       "      <td>0</td>\n",
       "      <td>109</td>\n",
       "      <td>2017</td>\n",
       "      <td>August</td>\n",
       "      <td>35</td>\n",
       "      <td>31</td>\n",
       "      <td>2</td>\n",
       "      <td>5</td>\n",
       "      <td>2</td>\n",
       "      <td>...</td>\n",
       "      <td>No Deposit</td>\n",
       "      <td>89.0</td>\n",
       "      <td>NaN</td>\n",
       "      <td>0</td>\n",
       "      <td>Transient</td>\n",
       "      <td>104.40</td>\n",
       "      <td>0</td>\n",
       "      <td>0</td>\n",
       "      <td>Check-Out</td>\n",
       "      <td>2017-09-07</td>\n",
       "    </tr>\n",
       "    <tr>\n",
       "      <th>119389</th>\n",
       "      <td>City Hotel</td>\n",
       "      <td>0</td>\n",
       "      <td>205</td>\n",
       "      <td>2017</td>\n",
       "      <td>August</td>\n",
       "      <td>35</td>\n",
       "      <td>29</td>\n",
       "      <td>2</td>\n",
       "      <td>7</td>\n",
       "      <td>2</td>\n",
       "      <td>...</td>\n",
       "      <td>No Deposit</td>\n",
       "      <td>9.0</td>\n",
       "      <td>NaN</td>\n",
       "      <td>0</td>\n",
       "      <td>Transient</td>\n",
       "      <td>151.20</td>\n",
       "      <td>0</td>\n",
       "      <td>2</td>\n",
       "      <td>Check-Out</td>\n",
       "      <td>2017-09-07</td>\n",
       "    </tr>\n",
       "  </tbody>\n",
       "</table>\n",
       "<p>119390 rows × 32 columns</p>\n",
       "</div>"
      ],
      "text/plain": [
       "               hotel  is_canceled  lead_time  arrival_date_year  \\\n",
       "0       Resort Hotel            0        342               2015   \n",
       "1       Resort Hotel            0        737               2015   \n",
       "2       Resort Hotel            0          7               2015   \n",
       "3       Resort Hotel            0         13               2015   \n",
       "4       Resort Hotel            0         14               2015   \n",
       "...              ...          ...        ...                ...   \n",
       "119385    City Hotel            0         23               2017   \n",
       "119386    City Hotel            0        102               2017   \n",
       "119387    City Hotel            0         34               2017   \n",
       "119388    City Hotel            0        109               2017   \n",
       "119389    City Hotel            0        205               2017   \n",
       "\n",
       "       arrival_date_month  arrival_date_week_number  \\\n",
       "0                    July                        27   \n",
       "1                    July                        27   \n",
       "2                    July                        27   \n",
       "3                    July                        27   \n",
       "4                    July                        27   \n",
       "...                   ...                       ...   \n",
       "119385             August                        35   \n",
       "119386             August                        35   \n",
       "119387             August                        35   \n",
       "119388             August                        35   \n",
       "119389             August                        35   \n",
       "\n",
       "        arrival_date_day_of_month  stays_in_weekend_nights  \\\n",
       "0                               1                        0   \n",
       "1                               1                        0   \n",
       "2                               1                        0   \n",
       "3                               1                        0   \n",
       "4                               1                        0   \n",
       "...                           ...                      ...   \n",
       "119385                         30                        2   \n",
       "119386                         31                        2   \n",
       "119387                         31                        2   \n",
       "119388                         31                        2   \n",
       "119389                         29                        2   \n",
       "\n",
       "        stays_in_week_nights  adults  ...  deposit_type  agent company  \\\n",
       "0                          0       2  ...    No Deposit    NaN     NaN   \n",
       "1                          0       2  ...    No Deposit    NaN     NaN   \n",
       "2                          1       1  ...    No Deposit    NaN     NaN   \n",
       "3                          1       1  ...    No Deposit  304.0     NaN   \n",
       "4                          2       2  ...    No Deposit  240.0     NaN   \n",
       "...                      ...     ...  ...           ...    ...     ...   \n",
       "119385                     5       2  ...    No Deposit  394.0     NaN   \n",
       "119386                     5       3  ...    No Deposit    9.0     NaN   \n",
       "119387                     5       2  ...    No Deposit    9.0     NaN   \n",
       "119388                     5       2  ...    No Deposit   89.0     NaN   \n",
       "119389                     7       2  ...    No Deposit    9.0     NaN   \n",
       "\n",
       "       days_in_waiting_list customer_type     adr  \\\n",
       "0                         0     Transient    0.00   \n",
       "1                         0     Transient    0.00   \n",
       "2                         0     Transient   75.00   \n",
       "3                         0     Transient   75.00   \n",
       "4                         0     Transient   98.00   \n",
       "...                     ...           ...     ...   \n",
       "119385                    0     Transient   96.14   \n",
       "119386                    0     Transient  225.43   \n",
       "119387                    0     Transient  157.71   \n",
       "119388                    0     Transient  104.40   \n",
       "119389                    0     Transient  151.20   \n",
       "\n",
       "        required_car_parking_spaces  total_of_special_requests  \\\n",
       "0                                 0                          0   \n",
       "1                                 0                          0   \n",
       "2                                 0                          0   \n",
       "3                                 0                          0   \n",
       "4                                 0                          1   \n",
       "...                             ...                        ...   \n",
       "119385                            0                          0   \n",
       "119386                            0                          2   \n",
       "119387                            0                          4   \n",
       "119388                            0                          0   \n",
       "119389                            0                          2   \n",
       "\n",
       "        reservation_status reservation_status_date  \n",
       "0                Check-Out              2015-07-01  \n",
       "1                Check-Out              2015-07-01  \n",
       "2                Check-Out              2015-07-02  \n",
       "3                Check-Out              2015-07-02  \n",
       "4                Check-Out              2015-07-03  \n",
       "...                    ...                     ...  \n",
       "119385           Check-Out              2017-09-06  \n",
       "119386           Check-Out              2017-09-07  \n",
       "119387           Check-Out              2017-09-07  \n",
       "119388           Check-Out              2017-09-07  \n",
       "119389           Check-Out              2017-09-07  \n",
       "\n",
       "[119390 rows x 32 columns]"
      ]
     },
     "execution_count": 2,
     "metadata": {},
     "output_type": "execute_result"
    }
   ],
   "source": [
    "data=pd.read_csv(\"reservas.csv\")#Leemos el fichero csv\n",
    "data"
   ]
  },
  {
   "cell_type": "code",
   "execution_count": 3,
   "metadata": {},
   "outputs": [
    {
     "data": {
      "text/plain": [
       "Index(['hotel', 'is_canceled', 'lead_time', 'arrival_date_year',\n",
       "       'arrival_date_month', 'arrival_date_week_number',\n",
       "       'arrival_date_day_of_month', 'stays_in_weekend_nights',\n",
       "       'stays_in_week_nights', 'adults', 'children', 'babies', 'meal',\n",
       "       'country', 'market_segment', 'distribution_channel',\n",
       "       'is_repeated_guest', 'previous_cancellations',\n",
       "       'previous_bookings_not_canceled', 'reserved_room_type',\n",
       "       'assigned_room_type', 'booking_changes', 'deposit_type', 'agent',\n",
       "       'company', 'days_in_waiting_list', 'customer_type', 'adr',\n",
       "       'required_car_parking_spaces', 'total_of_special_requests',\n",
       "       'reservation_status', 'reservation_status_date'],\n",
       "      dtype='object')"
      ]
     },
     "execution_count": 3,
     "metadata": {},
     "output_type": "execute_result"
    }
   ],
   "source": [
    "data.columns#Miramos las columnas del dataframe"
   ]
  },
  {
   "cell_type": "markdown",
   "metadata": {},
   "source": [
    "# 1. Haz todo el preprocesamiento para crear un set de entrenamiento y otro de validación qué permita clasificar habitaciones qué tengan sólo las características necesarias. Usaremos como atributos todos los tipos numéricos, en caso de que sean categóricos se recomienda transformarlos Explica qué has hecho y porqué."
   ]
  },
  {
   "cell_type": "markdown",
   "metadata": {},
   "source": [
    "Dado que hay dos columnas que hacen referencia al tipo de habitacion, escogemos la habitacion que los clientes has reservado no la que se les ha asignado, dado que se quiere crear un modelo que permita saber que tipo de habitación será mas demandada."
   ]
  },
  {
   "cell_type": "code",
   "execution_count": 4,
   "metadata": {},
   "outputs": [
    {
     "name": "stdout",
     "output_type": "stream",
     "text": [
      "0         C\n",
      "1         C\n",
      "2         A\n",
      "3         A\n",
      "4         A\n",
      "         ..\n",
      "119385    A\n",
      "119386    E\n",
      "119387    D\n",
      "119388    A\n",
      "119389    A\n",
      "Name: reserved_room_type, Length: 119390, dtype: object\n"
     ]
    }
   ],
   "source": [
    "print(data.reserved_room_type)#Columna que se va a utilizar como target"
   ]
  },
  {
   "cell_type": "code",
   "execution_count": 5,
   "metadata": {},
   "outputs": [],
   "source": [
    "#Cambiamos variable categoricas por variables numericas de la variable target para realizar el modelo\n",
    "data[\"reserved_room_type\"]=data['reserved_room_type'].astype('category')\n",
    "data[\"reserved_room_type\"]=data['reserved_room_type'].cat.codes"
   ]
  },
  {
   "cell_type": "code",
   "execution_count": 6,
   "metadata": {},
   "outputs": [
    {
     "data": {
      "text/plain": [
       "is_canceled                      -0.061282\n",
       "lead_time                        -0.106089\n",
       "arrival_date_year                 0.092809\n",
       "arrival_date_week_number         -0.007997\n",
       "arrival_date_day_of_month         0.016929\n",
       "stays_in_weekend_nights           0.142083\n",
       "stays_in_week_nights              0.168616\n",
       "adults                            0.211434\n",
       "children                          0.378064\n",
       "babies                            0.038794\n",
       "is_repeated_guest                -0.029537\n",
       "previous_cancellations           -0.048809\n",
       "previous_bookings_not_canceled   -0.021771\n",
       "reserved_room_type                1.000000\n",
       "booking_changes                   0.045060\n",
       "agent                             0.209143\n",
       "company                           0.033318\n",
       "days_in_waiting_list             -0.068821\n",
       "adr                               0.392060\n",
       "required_car_parking_spaces       0.131583\n",
       "total_of_special_requests         0.137466\n",
       "Name: reserved_room_type, dtype: float64"
      ]
     },
     "execution_count": 6,
     "metadata": {},
     "output_type": "execute_result"
    }
   ],
   "source": [
    "#Correlacion de todas las variables respecto a la variable target\n",
    "#Para detectar las columnas con las caracteristicas necesarias\n",
    "data.corr()['reserved_room_type'][:]"
   ]
  },
  {
   "cell_type": "markdown",
   "metadata": {},
   "source": [
    " Escogemos las columnas que mas relacion tengan con la variable en cuestion, es decir, aquellas que la relacion sea mas alta independientemente del signo."
   ]
  },
  {
   "cell_type": "code",
   "execution_count": 7,
   "metadata": {},
   "outputs": [
    {
     "data": {
      "text/html": [
       "<div>\n",
       "<style scoped>\n",
       "    .dataframe tbody tr th:only-of-type {\n",
       "        vertical-align: middle;\n",
       "    }\n",
       "\n",
       "    .dataframe tbody tr th {\n",
       "        vertical-align: top;\n",
       "    }\n",
       "\n",
       "    .dataframe thead th {\n",
       "        text-align: right;\n",
       "    }\n",
       "</style>\n",
       "<table border=\"1\" class=\"dataframe\">\n",
       "  <thead>\n",
       "    <tr style=\"text-align: right;\">\n",
       "      <th></th>\n",
       "      <th>children</th>\n",
       "      <th>adr</th>\n",
       "      <th>adults</th>\n",
       "      <th>stays_in_week_nights</th>\n",
       "      <th>agent</th>\n",
       "      <th>reserved_room_type</th>\n",
       "    </tr>\n",
       "  </thead>\n",
       "  <tbody>\n",
       "    <tr>\n",
       "      <th>0</th>\n",
       "      <td>0.0</td>\n",
       "      <td>0.00</td>\n",
       "      <td>2</td>\n",
       "      <td>0</td>\n",
       "      <td>NaN</td>\n",
       "      <td>2</td>\n",
       "    </tr>\n",
       "    <tr>\n",
       "      <th>1</th>\n",
       "      <td>0.0</td>\n",
       "      <td>0.00</td>\n",
       "      <td>2</td>\n",
       "      <td>0</td>\n",
       "      <td>NaN</td>\n",
       "      <td>2</td>\n",
       "    </tr>\n",
       "    <tr>\n",
       "      <th>2</th>\n",
       "      <td>0.0</td>\n",
       "      <td>75.00</td>\n",
       "      <td>1</td>\n",
       "      <td>1</td>\n",
       "      <td>NaN</td>\n",
       "      <td>0</td>\n",
       "    </tr>\n",
       "    <tr>\n",
       "      <th>3</th>\n",
       "      <td>0.0</td>\n",
       "      <td>75.00</td>\n",
       "      <td>1</td>\n",
       "      <td>1</td>\n",
       "      <td>304.0</td>\n",
       "      <td>0</td>\n",
       "    </tr>\n",
       "    <tr>\n",
       "      <th>4</th>\n",
       "      <td>0.0</td>\n",
       "      <td>98.00</td>\n",
       "      <td>2</td>\n",
       "      <td>2</td>\n",
       "      <td>240.0</td>\n",
       "      <td>0</td>\n",
       "    </tr>\n",
       "    <tr>\n",
       "      <th>...</th>\n",
       "      <td>...</td>\n",
       "      <td>...</td>\n",
       "      <td>...</td>\n",
       "      <td>...</td>\n",
       "      <td>...</td>\n",
       "      <td>...</td>\n",
       "    </tr>\n",
       "    <tr>\n",
       "      <th>119385</th>\n",
       "      <td>0.0</td>\n",
       "      <td>96.14</td>\n",
       "      <td>2</td>\n",
       "      <td>5</td>\n",
       "      <td>394.0</td>\n",
       "      <td>0</td>\n",
       "    </tr>\n",
       "    <tr>\n",
       "      <th>119386</th>\n",
       "      <td>0.0</td>\n",
       "      <td>225.43</td>\n",
       "      <td>3</td>\n",
       "      <td>5</td>\n",
       "      <td>9.0</td>\n",
       "      <td>4</td>\n",
       "    </tr>\n",
       "    <tr>\n",
       "      <th>119387</th>\n",
       "      <td>0.0</td>\n",
       "      <td>157.71</td>\n",
       "      <td>2</td>\n",
       "      <td>5</td>\n",
       "      <td>9.0</td>\n",
       "      <td>3</td>\n",
       "    </tr>\n",
       "    <tr>\n",
       "      <th>119388</th>\n",
       "      <td>0.0</td>\n",
       "      <td>104.40</td>\n",
       "      <td>2</td>\n",
       "      <td>5</td>\n",
       "      <td>89.0</td>\n",
       "      <td>0</td>\n",
       "    </tr>\n",
       "    <tr>\n",
       "      <th>119389</th>\n",
       "      <td>0.0</td>\n",
       "      <td>151.20</td>\n",
       "      <td>2</td>\n",
       "      <td>7</td>\n",
       "      <td>9.0</td>\n",
       "      <td>0</td>\n",
       "    </tr>\n",
       "  </tbody>\n",
       "</table>\n",
       "<p>119390 rows × 6 columns</p>\n",
       "</div>"
      ],
      "text/plain": [
       "        children     adr  adults  stays_in_week_nights  agent  \\\n",
       "0            0.0    0.00       2                     0    NaN   \n",
       "1            0.0    0.00       2                     0    NaN   \n",
       "2            0.0   75.00       1                     1    NaN   \n",
       "3            0.0   75.00       1                     1  304.0   \n",
       "4            0.0   98.00       2                     2  240.0   \n",
       "...          ...     ...     ...                   ...    ...   \n",
       "119385       0.0   96.14       2                     5  394.0   \n",
       "119386       0.0  225.43       3                     5    9.0   \n",
       "119387       0.0  157.71       2                     5    9.0   \n",
       "119388       0.0  104.40       2                     5   89.0   \n",
       "119389       0.0  151.20       2                     7    9.0   \n",
       "\n",
       "        reserved_room_type  \n",
       "0                        2  \n",
       "1                        2  \n",
       "2                        0  \n",
       "3                        0  \n",
       "4                        0  \n",
       "...                    ...  \n",
       "119385                   0  \n",
       "119386                   4  \n",
       "119387                   3  \n",
       "119388                   0  \n",
       "119389                   0  \n",
       "\n",
       "[119390 rows x 6 columns]"
      ]
     },
     "execution_count": 7,
     "metadata": {},
     "output_type": "execute_result"
    }
   ],
   "source": [
    "#Eliminamos las columnas que su relacion este proxima a 0, escogeremos las columnas que tengan una correlacion de \n",
    "#mas de 0.15\n",
    "data=data[['children','adr','adults','stays_in_week_nights','agent','reserved_room_type']]\n",
    "data"
   ]
  },
  {
   "cell_type": "code",
   "execution_count": 8,
   "metadata": {},
   "outputs": [
    {
     "name": "stdout",
     "output_type": "stream",
     "text": [
      "<class 'pandas.core.frame.DataFrame'>\n",
      "RangeIndex: 119390 entries, 0 to 119389\n",
      "Data columns (total 6 columns):\n",
      " #   Column                Non-Null Count   Dtype  \n",
      "---  ------                --------------   -----  \n",
      " 0   children              119386 non-null  float64\n",
      " 1   adr                   119390 non-null  float64\n",
      " 2   adults                119390 non-null  int64  \n",
      " 3   stays_in_week_nights  119390 non-null  int64  \n",
      " 4   agent                 103050 non-null  float64\n",
      " 5   reserved_room_type    119390 non-null  int8   \n",
      "dtypes: float64(3), int64(2), int8(1)\n",
      "memory usage: 4.7 MB\n"
     ]
    }
   ],
   "source": [
    "data.info( )#miramos los tipos de las columnas"
   ]
  },
  {
   "cell_type": "code",
   "execution_count": 9,
   "metadata": {},
   "outputs": [
    {
     "data": {
      "text/plain": [
       "children                    4\n",
       "adr                         0\n",
       "adults                      0\n",
       "stays_in_week_nights        0\n",
       "agent                   16340\n",
       "reserved_room_type          0\n",
       "dtype: int64"
      ]
     },
     "execution_count": 9,
     "metadata": {},
     "output_type": "execute_result"
    }
   ],
   "source": [
    "data.isnull().sum() #missing values"
   ]
  },
  {
   "cell_type": "markdown",
   "metadata": {},
   "source": [
    "Teniendo en cuenta el bajo porcentaje de missing values eliminaremos dichos valores."
   ]
  },
  {
   "cell_type": "code",
   "execution_count": 10,
   "metadata": {},
   "outputs": [
    {
     "data": {
      "text/html": [
       "<div>\n",
       "<style scoped>\n",
       "    .dataframe tbody tr th:only-of-type {\n",
       "        vertical-align: middle;\n",
       "    }\n",
       "\n",
       "    .dataframe tbody tr th {\n",
       "        vertical-align: top;\n",
       "    }\n",
       "\n",
       "    .dataframe thead th {\n",
       "        text-align: right;\n",
       "    }\n",
       "</style>\n",
       "<table border=\"1\" class=\"dataframe\">\n",
       "  <thead>\n",
       "    <tr style=\"text-align: right;\">\n",
       "      <th></th>\n",
       "      <th>children</th>\n",
       "      <th>adr</th>\n",
       "      <th>adults</th>\n",
       "      <th>stays_in_week_nights</th>\n",
       "      <th>agent</th>\n",
       "      <th>reserved_room_type</th>\n",
       "    </tr>\n",
       "  </thead>\n",
       "  <tbody>\n",
       "    <tr>\n",
       "      <th>0</th>\n",
       "      <td>0.0</td>\n",
       "      <td>75.00</td>\n",
       "      <td>1</td>\n",
       "      <td>1</td>\n",
       "      <td>304.0</td>\n",
       "      <td>0</td>\n",
       "    </tr>\n",
       "    <tr>\n",
       "      <th>1</th>\n",
       "      <td>0.0</td>\n",
       "      <td>98.00</td>\n",
       "      <td>2</td>\n",
       "      <td>2</td>\n",
       "      <td>240.0</td>\n",
       "      <td>0</td>\n",
       "    </tr>\n",
       "    <tr>\n",
       "      <th>2</th>\n",
       "      <td>0.0</td>\n",
       "      <td>98.00</td>\n",
       "      <td>2</td>\n",
       "      <td>2</td>\n",
       "      <td>240.0</td>\n",
       "      <td>0</td>\n",
       "    </tr>\n",
       "    <tr>\n",
       "      <th>3</th>\n",
       "      <td>0.0</td>\n",
       "      <td>103.00</td>\n",
       "      <td>2</td>\n",
       "      <td>2</td>\n",
       "      <td>303.0</td>\n",
       "      <td>2</td>\n",
       "    </tr>\n",
       "    <tr>\n",
       "      <th>4</th>\n",
       "      <td>0.0</td>\n",
       "      <td>82.00</td>\n",
       "      <td>2</td>\n",
       "      <td>3</td>\n",
       "      <td>240.0</td>\n",
       "      <td>0</td>\n",
       "    </tr>\n",
       "    <tr>\n",
       "      <th>...</th>\n",
       "      <td>...</td>\n",
       "      <td>...</td>\n",
       "      <td>...</td>\n",
       "      <td>...</td>\n",
       "      <td>...</td>\n",
       "      <td>...</td>\n",
       "    </tr>\n",
       "    <tr>\n",
       "      <th>103043</th>\n",
       "      <td>0.0</td>\n",
       "      <td>96.14</td>\n",
       "      <td>2</td>\n",
       "      <td>5</td>\n",
       "      <td>394.0</td>\n",
       "      <td>0</td>\n",
       "    </tr>\n",
       "    <tr>\n",
       "      <th>103044</th>\n",
       "      <td>0.0</td>\n",
       "      <td>225.43</td>\n",
       "      <td>3</td>\n",
       "      <td>5</td>\n",
       "      <td>9.0</td>\n",
       "      <td>4</td>\n",
       "    </tr>\n",
       "    <tr>\n",
       "      <th>103045</th>\n",
       "      <td>0.0</td>\n",
       "      <td>157.71</td>\n",
       "      <td>2</td>\n",
       "      <td>5</td>\n",
       "      <td>9.0</td>\n",
       "      <td>3</td>\n",
       "    </tr>\n",
       "    <tr>\n",
       "      <th>103046</th>\n",
       "      <td>0.0</td>\n",
       "      <td>104.40</td>\n",
       "      <td>2</td>\n",
       "      <td>5</td>\n",
       "      <td>89.0</td>\n",
       "      <td>0</td>\n",
       "    </tr>\n",
       "    <tr>\n",
       "      <th>103047</th>\n",
       "      <td>0.0</td>\n",
       "      <td>151.20</td>\n",
       "      <td>2</td>\n",
       "      <td>7</td>\n",
       "      <td>9.0</td>\n",
       "      <td>0</td>\n",
       "    </tr>\n",
       "  </tbody>\n",
       "</table>\n",
       "<p>103048 rows × 6 columns</p>\n",
       "</div>"
      ],
      "text/plain": [
       "        children     adr  adults  stays_in_week_nights  agent  \\\n",
       "0            0.0   75.00       1                     1  304.0   \n",
       "1            0.0   98.00       2                     2  240.0   \n",
       "2            0.0   98.00       2                     2  240.0   \n",
       "3            0.0  103.00       2                     2  303.0   \n",
       "4            0.0   82.00       2                     3  240.0   \n",
       "...          ...     ...     ...                   ...    ...   \n",
       "103043       0.0   96.14       2                     5  394.0   \n",
       "103044       0.0  225.43       3                     5    9.0   \n",
       "103045       0.0  157.71       2                     5    9.0   \n",
       "103046       0.0  104.40       2                     5   89.0   \n",
       "103047       0.0  151.20       2                     7    9.0   \n",
       "\n",
       "        reserved_room_type  \n",
       "0                        0  \n",
       "1                        0  \n",
       "2                        0  \n",
       "3                        2  \n",
       "4                        0  \n",
       "...                    ...  \n",
       "103043                   0  \n",
       "103044                   4  \n",
       "103045                   3  \n",
       "103046                   0  \n",
       "103047                   0  \n",
       "\n",
       "[103048 rows x 6 columns]"
      ]
     },
     "execution_count": 10,
     "metadata": {},
     "output_type": "execute_result"
    }
   ],
   "source": [
    "data=data.dropna()#Eliminamos los null\n",
    "data = data.reset_index(drop=True)#restablecemos el index tras eliminar los null\n",
    "data"
   ]
  },
  {
   "cell_type": "code",
   "execution_count": 11,
   "metadata": {},
   "outputs": [],
   "source": [
    "#Quitamos los primeros 10 rows para utilizarlos en el ultimo apartado\n",
    "test=data.head(10)\n",
    "data.drop(data.head(10).index,inplace=True)\n"
   ]
  },
  {
   "cell_type": "markdown",
   "metadata": {},
   "source": [
    "# UTILIZAR EN EL CASO DE QUE ESTE CREADO EL ARCHIVO CSV\n",
    "En el caso de no utilizarlo se guardara otro dataframe ademas del que ya se encontraba guardado previamente.\n",
    "os.remove('habitaciones_clasificar.csv')"
   ]
  },
  {
   "cell_type": "code",
   "execution_count": 12,
   "metadata": {},
   "outputs": [],
   "source": [
    "#Guardamos los datos en el csv\n",
    "test.to_csv('habitaciones_clasificar.csv', mode='a', index=False)"
   ]
  },
  {
   "cell_type": "markdown",
   "metadata": {},
   "source": [
    "# 2. Prueba con distintas configuraciones de las dos métricas principales. La primera métrica corresponde al número de individuos que usarás para clasificar una nueva instancia y la segunda cómo vas a medir la cercanía de esa nueva instancia con el resto. ¿Qué decisiones has tomado? ¿Por qué?"
   ]
  },
  {
   "cell_type": "markdown",
   "metadata": {},
   "source": [
    "He decidido utilizar un clasificador de kneighbours dado que en el enunciado se nos pide hallar el numero de individuos y por ello he entendido que se nos pide utilizar este clasificador.\n",
    "Para medir la cercanía de esa nueva instancia con el resto se usara el parametro weights='distance' dentro del clasificador."
   ]
  },
  {
   "cell_type": "code",
   "execution_count": 13,
   "metadata": {},
   "outputs": [],
   "source": [
    "#Creamos los datos con de entrenamiento y el test\n",
    "x=data.drop([\"reserved_room_type\"],axis=1)\n",
    "y=data[\"reserved_room_type\"]\n",
    "#80% para el training 20% para la validacion\n",
    "x_train,x_test,y_train,y_test=train_test_split(x,y,test_size=0.2,random_state=0)"
   ]
  },
  {
   "cell_type": "markdown",
   "metadata": {},
   "source": [
    "Tras definir el test de entrenamiento y el de validacion, ahora pasaremos a configurar como vamos a medir la cercania entre individuos, y cual sera el numero de neighbors que utilizaremos. Para ello haremos uso del algoritmo KNN, y observaremos en el rango de 0-100. \n",
    "\n",
    "Compararemos el error con distintas metricas en este caso son euclidea, manhattan , chebyshev y minkowski no se utilizan mas metricas de https://scikit-learn.org/stable/modules/generated/sklearn.neighbors.DistanceMetric.html#sklearn.neighbors.DistanceMetric dado que estas requieren el uso de mas parametros.\n",
    "Para tener en cuenta la distancia se utilizara el parametro weights distance para que los neighbours cercanos tengan mas influencia que los vecinos mas lejanos"
   ]
  },
  {
   "cell_type": "code",
   "execution_count": 14,
   "metadata": {},
   "outputs": [],
   "source": [
    "#Funcion en la que se podra ver la comparacion de ambas configuraciones, manhattan y euclidea\n",
    "#Creamos un bucle que realice 100 iteraciones empezando en 1 y acabando en 100(100 no incluido) \n",
    "#para que se pueda ver el error que se obtiene al aumentar el numero de vecinos\n",
    "\n",
    "def plot_distancia(distancia,color):\n",
    "    #Creacion de las variables donde se guardan tanto el error como el numero de neighbours\n",
    "    numero=list(range(1, 101))\n",
    "    error = []\n",
    "    error = list()\n",
    "    for i in range (1,101):\n",
    "        #Definimos el clasificador\n",
    "        vecinos=KNeighborsClassifier(n_neighbors=i,weights='distance',metric=distancia)\n",
    "        #Entrenamos con el clasificador y los datos de entrenamiento\n",
    "        vecinos.fit(x_train,y_train)\n",
    "        #Obtenemos el acuraccy medio del test.\n",
    "        precision=vecinos.score(x_test,y_test)\n",
    "        #Calculamos el error\n",
    "        errorpreci=1-precision\n",
    "        #Guardamos el error en el array\n",
    "        error.append(errorpreci)\n",
    "        \n",
    "    #Busca el numero minimo del array\n",
    "    zmin = np.min(error)\n",
    "    #index donde se encuentran los numeros minimos\n",
    "    posicion=np.where(min(error) == error)\n",
    "    #pasamos a array para poder sumar\n",
    "    posicion=np.asarray(posicion)\n",
    "    #sumamos uno a la posicion dado que el numero del vecino es la posicion +1\n",
    "    print('El numero de vecino es: '+str(posicion+1))\n",
    "    print(\"Minimo error de la metrica: \"+str(distancia)+\" es \" +str(zmin))\n",
    "    #Grafica\n",
    "    plt.figure(figsize=(30,9))\n",
    "    plt.plot(numero, error,color=color)\n",
    "    plt.title('Numero neighbors vs Error EUCLIDEA')\n",
    "    plt.xticks(numero)\n",
    "    plt.xlabel('Numero de vecinos')\n",
    "    plt.ylabel('Error')  \n",
    "plt.show()\n",
    "    \n",
    "    "
   ]
  },
  {
   "cell_type": "code",
   "execution_count": 15,
   "metadata": {},
   "outputs": [
    {
     "name": "stdout",
     "output_type": "stream",
     "text": [
      "El numero de vecino es: [[30]]\n",
      "Minimo error de la metrica: manhattan es 0.18099767080745344\n"
     ]
    },
    {
     "data": {
      "image/png": "[encoded data removed]",
      "text/plain": [
       "<Figure size 2160x648 with 1 Axes>"
      ]
     },
     "metadata": {},
     "output_type": "display_data"
    }
   ],
   "source": [
    "plot_distancia('manhattan','red')"
   ]
  },
  {
   "cell_type": "code",
   "execution_count": 16,
   "metadata": {},
   "outputs": [
    {
     "name": "stdout",
     "output_type": "stream",
     "text": [
      "El numero de vecino es: [[13]]\n",
      "Minimo error de la metrica: euclidean es 0.18405473602484468\n"
     ]
    },
    {
     "data": {
      "image/png": "[encoded data removed]",
      "text/plain": [
       "<Figure size 2160x648 with 1 Axes>"
      ]
     },
     "metadata": {},
     "output_type": "display_data"
    }
   ],
   "source": [
    "plot_distancia('euclidean','blue')"
   ]
  },
  {
   "cell_type": "code",
   "execution_count": 17,
   "metadata": {},
   "outputs": [
    {
     "name": "stdout",
     "output_type": "stream",
     "text": [
      "El numero de vecino es: [[10]]\n",
      "Minimo error de la metrica: chebyshev es 0.18793672360248448\n"
     ]
    },
    {
     "data": {
      "image/png": "[encoded data removed]",
      "text/plain": [
       "<Figure size 2160x648 with 1 Axes>"
      ]
     },
     "metadata": {},
     "output_type": "display_data"
    }
   ],
   "source": [
    "plot_distancia('chebyshev','green')"
   ]
  },
  {
   "cell_type": "code",
   "execution_count": 18,
   "metadata": {},
   "outputs": [
    {
     "name": "stdout",
     "output_type": "stream",
     "text": [
      "El numero de vecino es: [[13]]\n",
      "Minimo error de la metrica: minkowski es 0.18405473602484468\n"
     ]
    },
    {
     "data": {
      "image/png": "[encoded data removed]",
      "text/plain": [
       "<Figure size 2160x648 with 1 Axes>"
      ]
     },
     "metadata": {},
     "output_type": "display_data"
    }
   ],
   "source": [
    "plot_distancia('minkowski','cyan')"
   ]
  },
  {
   "cell_type": "markdown",
   "metadata": {},
   "source": [
    "Como podemos ver obtenemos menos error al utilizar la distancia de manhattan en concreto con el numero de neighbor 30 frente al error que obtenemos con cualquiera de las otras metricas utilizadas."
   ]
  },
  {
   "cell_type": "code",
   "execution_count": 19,
   "metadata": {},
   "outputs": [
    {
     "name": "stdout",
     "output_type": "stream",
     "text": [
      "Matriz de confusion: \n",
      "[[13939    17     9   581   146    30     7     2]\n",
      " [   89    81     0     6     0     9     0     0]\n",
      " [   46     0    32    15     8     6    28     1]\n",
      " [ 1366     2     5  1932   150    23    13     1]\n",
      " [  444     0     2   216   373    28    14     0]\n",
      " [   96     4     1    53    25   303    13     1]\n",
      " [   70     0    22    41    22    29   191     3]\n",
      " [   36     0     4    14    15     0    17    27]]\n",
      "\n",
      "Precision: 0.8190023291925466\n"
     ]
    }
   ],
   "source": [
    "#Definimos el clasificador\n",
    "knn=KNeighborsClassifier(n_neighbors=30,weights='distance',p=1)\n",
    "#Entrenamos el clasificador\n",
    "knn.fit(x_train,y_train)\n",
    "#Matriz de confusion\n",
    "prediccion=knn.predict(x_test)\n",
    "print('Matriz de confusion: ')\n",
    "print(confusion_matrix(y_test,prediccion))\n",
    "print('')\n",
    "#Precision\n",
    "print(\"Precision:\",knn.score(x_test,y_test))"
   ]
  },
  {
   "cell_type": "markdown",
   "metadata": {},
   "source": [
    "# 3. Elige la mejor configuración entre las anteriores. Para ello dibuja una tabla ver cómo evoluciona la clasificación. Dibuja los resultados que se obtienen con ambas configuraciones elegidas cómo las mejores"
   ]
  },
  {
   "cell_type": "markdown",
   "metadata": {},
   "source": [
    "La mejor configuracion encontrada, es decir, aquella con el menor error es usando la metrica de manhattan con el numero de vecinos 30.\n",
    "Y la segunda mejor se obtiene con la metrica euclidea o la metrica minkowski con el numero de neighbor 13, por ello escogeremos la metrica euclidea."
   ]
  },
  {
   "cell_type": "markdown",
   "metadata": {},
   "source": [
    "## Tabla"
   ]
  },
  {
   "cell_type": "code",
   "execution_count": 20,
   "metadata": {},
   "outputs": [],
   "source": [
    "#Creacion del dataframe donde se guardaran los datos para mostrarlo como tabla\n",
    "tabladata = pd.DataFrame(columns=['Vecinos','Error'])"
   ]
  },
  {
   "cell_type": "code",
   "execution_count": 21,
   "metadata": {
    "scrolled": false
   },
   "outputs": [
    {
     "name": "stdout",
     "output_type": "stream",
     "text": [
      "Numero de vecino: 1     Error: 0.20341614906832295\n",
      "Numero de vecino: 2     Error: 0.19720496894409933\n",
      "Numero de vecino: 3     Error: 0.1920128105590062\n",
      "Numero de vecino: 4     Error: 0.18895574534161486\n",
      "Numero de vecino: 5     Error: 0.18604425465838514\n",
      "Numero de vecino: 6     Error: 0.18662655279503104\n",
      "Numero de vecino: 7     Error: 0.1864324534161491\n",
      "Numero de vecino: 8     Error: 0.18371506211180122\n",
      "Numero de vecino: 9     Error: 0.18313276397515532\n",
      "Numero de vecino: 10     Error: 0.18143439440993792\n",
      "Numero de vecino: 11     Error: 0.18157996894409933\n",
      "Numero de vecino: 12     Error: 0.18167701863354035\n",
      "Numero de vecino: 13     Error: 0.18148291925465843\n",
      "Numero de vecino: 14     Error: 0.18157996894409933\n",
      "Numero de vecino: 15     Error: 0.18148291925465843\n",
      "Numero de vecino: 16     Error: 0.18104619565217395\n",
      "Numero de vecino: 17     Error: 0.18157996894409933\n",
      "Numero de vecino: 18     Error: 0.1813373447204969\n",
      "Numero de vecino: 19     Error: 0.18162849378881984\n",
      "Numero de vecino: 20     Error: 0.18177406832298137\n",
      "Numero de vecino: 21     Error: 0.18148291925465843\n",
      "Numero de vecino: 22     Error: 0.18124029503105588\n",
      "Numero de vecino: 23     Error: 0.18109472049689446\n",
      "Numero de vecino: 24     Error: 0.1813858695652174\n",
      "Numero de vecino: 25     Error: 0.18128881987577639\n",
      "Numero de vecino: 26     Error: 0.1818711180124224\n",
      "Numero de vecino: 27     Error: 0.1818711180124224\n",
      "Numero de vecino: 28     Error: 0.18182259316770188\n",
      "Numero de vecino: 29     Error: 0.1820166925465838\n",
      "Numero de vecino: 30     Error: 0.18099767080745344\n",
      "Numero de vecino: 31     Error: 0.18162849378881984\n",
      "Numero de vecino: 32     Error: 0.18167701863354035\n",
      "Numero de vecino: 33     Error: 0.18119177018633537\n",
      "Numero de vecino: 34     Error: 0.18162849378881984\n"
     ]
    }
   ],
   "source": [
    "#Representamos hasta mas alla del 30 para mostrar como aumenta tras pasar dicho numero\n",
    "for i in range (1,35):\n",
    "    #Definimos el clasificador\n",
    "    vecinos=KNeighborsClassifier(n_neighbors=i,weights='distance',p=1)\n",
    "    #Entrenamos con el clasificador y los datos de entrenamiento\n",
    "    vecinos.fit(x_train,y_train)\n",
    "    #Obtenemos el acuraccy medio del test.\n",
    "    precision=vecinos.score(x_test,y_test)\n",
    "    #Calculamos el error\n",
    "    errorpreci=1-precision\n",
    "\n",
    "    tabladata = tabladata.append({'Vecinos': i, \n",
    "                                    'Error':errorpreci}, ignore_index=True)\n",
    "    print('Numero de vecino: '+str(i)+'     Error: '+str(errorpreci))"
   ]
  },
  {
   "cell_type": "code",
   "execution_count": 22,
   "metadata": {},
   "outputs": [
    {
     "data": {
      "text/html": [
       "<div>\n",
       "<style scoped>\n",
       "    .dataframe tbody tr th:only-of-type {\n",
       "        vertical-align: middle;\n",
       "    }\n",
       "\n",
       "    .dataframe tbody tr th {\n",
       "        vertical-align: top;\n",
       "    }\n",
       "\n",
       "    .dataframe thead th {\n",
       "        text-align: right;\n",
       "    }\n",
       "</style>\n",
       "<table border=\"1\" class=\"dataframe\">\n",
       "  <thead>\n",
       "    <tr style=\"text-align: right;\">\n",
       "      <th></th>\n",
       "      <th>Vecinos</th>\n",
       "      <th>Error</th>\n",
       "    </tr>\n",
       "  </thead>\n",
       "  <tbody>\n",
       "    <tr>\n",
       "      <th>0</th>\n",
       "      <td>1.0</td>\n",
       "      <td>0.203416</td>\n",
       "    </tr>\n",
       "    <tr>\n",
       "      <th>1</th>\n",
       "      <td>2.0</td>\n",
       "      <td>0.197205</td>\n",
       "    </tr>\n",
       "    <tr>\n",
       "      <th>2</th>\n",
       "      <td>3.0</td>\n",
       "      <td>0.192013</td>\n",
       "    </tr>\n",
       "    <tr>\n",
       "      <th>3</th>\n",
       "      <td>4.0</td>\n",
       "      <td>0.188956</td>\n",
       "    </tr>\n",
       "    <tr>\n",
       "      <th>4</th>\n",
       "      <td>5.0</td>\n",
       "      <td>0.186044</td>\n",
       "    </tr>\n",
       "    <tr>\n",
       "      <th>5</th>\n",
       "      <td>6.0</td>\n",
       "      <td>0.186627</td>\n",
       "    </tr>\n",
       "    <tr>\n",
       "      <th>6</th>\n",
       "      <td>7.0</td>\n",
       "      <td>0.186432</td>\n",
       "    </tr>\n",
       "    <tr>\n",
       "      <th>7</th>\n",
       "      <td>8.0</td>\n",
       "      <td>0.183715</td>\n",
       "    </tr>\n",
       "    <tr>\n",
       "      <th>8</th>\n",
       "      <td>9.0</td>\n",
       "      <td>0.183133</td>\n",
       "    </tr>\n",
       "    <tr>\n",
       "      <th>9</th>\n",
       "      <td>10.0</td>\n",
       "      <td>0.181434</td>\n",
       "    </tr>\n",
       "    <tr>\n",
       "      <th>10</th>\n",
       "      <td>11.0</td>\n",
       "      <td>0.181580</td>\n",
       "    </tr>\n",
       "    <tr>\n",
       "      <th>11</th>\n",
       "      <td>12.0</td>\n",
       "      <td>0.181677</td>\n",
       "    </tr>\n",
       "    <tr>\n",
       "      <th>12</th>\n",
       "      <td>13.0</td>\n",
       "      <td>0.181483</td>\n",
       "    </tr>\n",
       "    <tr>\n",
       "      <th>13</th>\n",
       "      <td>14.0</td>\n",
       "      <td>0.181580</td>\n",
       "    </tr>\n",
       "    <tr>\n",
       "      <th>14</th>\n",
       "      <td>15.0</td>\n",
       "      <td>0.181483</td>\n",
       "    </tr>\n",
       "    <tr>\n",
       "      <th>15</th>\n",
       "      <td>16.0</td>\n",
       "      <td>0.181046</td>\n",
       "    </tr>\n",
       "    <tr>\n",
       "      <th>16</th>\n",
       "      <td>17.0</td>\n",
       "      <td>0.181580</td>\n",
       "    </tr>\n",
       "    <tr>\n",
       "      <th>17</th>\n",
       "      <td>18.0</td>\n",
       "      <td>0.181337</td>\n",
       "    </tr>\n",
       "    <tr>\n",
       "      <th>18</th>\n",
       "      <td>19.0</td>\n",
       "      <td>0.181628</td>\n",
       "    </tr>\n",
       "    <tr>\n",
       "      <th>19</th>\n",
       "      <td>20.0</td>\n",
       "      <td>0.181774</td>\n",
       "    </tr>\n",
       "    <tr>\n",
       "      <th>20</th>\n",
       "      <td>21.0</td>\n",
       "      <td>0.181483</td>\n",
       "    </tr>\n",
       "    <tr>\n",
       "      <th>21</th>\n",
       "      <td>22.0</td>\n",
       "      <td>0.181240</td>\n",
       "    </tr>\n",
       "    <tr>\n",
       "      <th>22</th>\n",
       "      <td>23.0</td>\n",
       "      <td>0.181095</td>\n",
       "    </tr>\n",
       "    <tr>\n",
       "      <th>23</th>\n",
       "      <td>24.0</td>\n",
       "      <td>0.181386</td>\n",
       "    </tr>\n",
       "    <tr>\n",
       "      <th>24</th>\n",
       "      <td>25.0</td>\n",
       "      <td>0.181289</td>\n",
       "    </tr>\n",
       "    <tr>\n",
       "      <th>25</th>\n",
       "      <td>26.0</td>\n",
       "      <td>0.181871</td>\n",
       "    </tr>\n",
       "    <tr>\n",
       "      <th>26</th>\n",
       "      <td>27.0</td>\n",
       "      <td>0.181871</td>\n",
       "    </tr>\n",
       "    <tr>\n",
       "      <th>27</th>\n",
       "      <td>28.0</td>\n",
       "      <td>0.181823</td>\n",
       "    </tr>\n",
       "    <tr>\n",
       "      <th>28</th>\n",
       "      <td>29.0</td>\n",
       "      <td>0.182017</td>\n",
       "    </tr>\n",
       "    <tr>\n",
       "      <th>29</th>\n",
       "      <td>30.0</td>\n",
       "      <td>0.180998</td>\n",
       "    </tr>\n",
       "    <tr>\n",
       "      <th>30</th>\n",
       "      <td>31.0</td>\n",
       "      <td>0.181628</td>\n",
       "    </tr>\n",
       "    <tr>\n",
       "      <th>31</th>\n",
       "      <td>32.0</td>\n",
       "      <td>0.181677</td>\n",
       "    </tr>\n",
       "    <tr>\n",
       "      <th>32</th>\n",
       "      <td>33.0</td>\n",
       "      <td>0.181192</td>\n",
       "    </tr>\n",
       "    <tr>\n",
       "      <th>33</th>\n",
       "      <td>34.0</td>\n",
       "      <td>0.181628</td>\n",
       "    </tr>\n",
       "  </tbody>\n",
       "</table>\n",
       "</div>"
      ],
      "text/plain": [
       "    Vecinos     Error\n",
       "0       1.0  0.203416\n",
       "1       2.0  0.197205\n",
       "2       3.0  0.192013\n",
       "3       4.0  0.188956\n",
       "4       5.0  0.186044\n",
       "5       6.0  0.186627\n",
       "6       7.0  0.186432\n",
       "7       8.0  0.183715\n",
       "8       9.0  0.183133\n",
       "9      10.0  0.181434\n",
       "10     11.0  0.181580\n",
       "11     12.0  0.181677\n",
       "12     13.0  0.181483\n",
       "13     14.0  0.181580\n",
       "14     15.0  0.181483\n",
       "15     16.0  0.181046\n",
       "16     17.0  0.181580\n",
       "17     18.0  0.181337\n",
       "18     19.0  0.181628\n",
       "19     20.0  0.181774\n",
       "20     21.0  0.181483\n",
       "21     22.0  0.181240\n",
       "22     23.0  0.181095\n",
       "23     24.0  0.181386\n",
       "24     25.0  0.181289\n",
       "25     26.0  0.181871\n",
       "26     27.0  0.181871\n",
       "27     28.0  0.181823\n",
       "28     29.0  0.182017\n",
       "29     30.0  0.180998\n",
       "30     31.0  0.181628\n",
       "31     32.0  0.181677\n",
       "32     33.0  0.181192\n",
       "33     34.0  0.181628"
      ]
     },
     "execution_count": 22,
     "metadata": {},
     "output_type": "execute_result"
    }
   ],
   "source": [
    "#Tabla en dataframe\n",
    "tabladata"
   ]
  },
  {
   "cell_type": "markdown",
   "metadata": {},
   "source": [
    "Aqui podemos ver como al aumentar el numero de vecinos hasta llegar al numero 30 el error va descendiendo, sin embargo, cuando lo sobrepasa va aumentando ligeramente tal y como se puede ver en la grafica que hace referencia a la distancia de manhattan."
   ]
  },
  {
   "cell_type": "markdown",
   "metadata": {},
   "source": [
    "## Dibuja los resultados que se obtienen con ambas configuraciones elegidas cómo las mejores."
   ]
  },
  {
   "cell_type": "markdown",
   "metadata": {},
   "source": [
    "CONFIGURACION ESCOGIDA COMO LA MEJOR DE TODAS"
   ]
  },
  {
   "cell_type": "code",
   "execution_count": 35,
   "metadata": {},
   "outputs": [
    {
     "data": {
      "text/plain": [
       "KNeighborsClassifier(n_neighbors=30, p=1, weights='distance')"
      ]
     },
     "execution_count": 35,
     "metadata": {},
     "output_type": "execute_result"
    }
   ],
   "source": [
    "vecinos=KNeighborsClassifier(n_neighbors=30,weights='distance',p=1)\n",
    "vecinos.fit(x_train, y_train)"
   ]
  },
  {
   "cell_type": "code",
   "execution_count": 36,
   "metadata": {},
   "outputs": [
    {
     "name": "stdout",
     "output_type": "stream",
     "text": [
      "[0 0 0 ... 3 0 0]\n"
     ]
    }
   ],
   "source": [
    "#Resultados predichos por el clasificador\n",
    "vecinos.predict(x_test)"
   ]
  },
  {
   "cell_type": "code",
   "execution_count": 25,
   "metadata": {},
   "outputs": [
    {
     "data": {
      "text/plain": [
       "90136    0\n",
       "24578    0\n",
       "55193    0\n",
       "37027    0\n",
       "69299    5\n",
       "        ..\n",
       "67116    0\n",
       "53803    0\n",
       "76416    3\n",
       "45292    0\n",
       "97609    0\n",
       "Name: reserved_room_type, Length: 20608, dtype: int8"
      ]
     },
     "execution_count": 25,
     "metadata": {},
     "output_type": "execute_result"
    }
   ],
   "source": [
    "#Resultados reales\n",
    "y_test"
   ]
  },
  {
   "cell_type": "code",
   "execution_count": 26,
   "metadata": {},
   "outputs": [
    {
     "data": {
      "text/plain": [
       "0.8190023291925466"
      ]
     },
     "execution_count": 26,
     "metadata": {},
     "output_type": "execute_result"
    }
   ],
   "source": [
    "#Precision del modelo\n",
    "vecinos.score(x_test,y_test)"
   ]
  },
  {
   "cell_type": "markdown",
   "metadata": {},
   "source": [
    "CONFIGURACION ESCOGIDA COMO MEJOR CON LA DISTANCIA EUCLIDEA (LA SEGUNDA MEJOR EN TOTAL)"
   ]
  },
  {
   "cell_type": "code",
   "execution_count": 27,
   "metadata": {},
   "outputs": [
    {
     "data": {
      "text/plain": [
       "KNeighborsClassifier(n_neighbors=13, weights='distance')"
      ]
     },
     "execution_count": 27,
     "metadata": {},
     "output_type": "execute_result"
    }
   ],
   "source": [
    "vecinoseuclidea=KNeighborsClassifier(n_neighbors=13,weights='distance',p=2,metric='minkowski')\n",
    "vecinoseuclidea.fit(x_train, y_train)"
   ]
  },
  {
   "cell_type": "code",
   "execution_count": 28,
   "metadata": {},
   "outputs": [
    {
     "data": {
      "text/plain": [
       "array([0, 0, 0, ..., 3, 0, 0], dtype=int8)"
      ]
     },
     "execution_count": 28,
     "metadata": {},
     "output_type": "execute_result"
    }
   ],
   "source": [
    "#Resultados predichos por el clasificador de la distancia euclidea\n",
    "vecinoseuclidea.predict(x_test)"
   ]
  },
  {
   "cell_type": "code",
   "execution_count": 29,
   "metadata": {},
   "outputs": [
    {
     "data": {
      "text/plain": [
       "90136    0\n",
       "24578    0\n",
       "55193    0\n",
       "37027    0\n",
       "69299    5\n",
       "        ..\n",
       "67116    0\n",
       "53803    0\n",
       "76416    3\n",
       "45292    0\n",
       "97609    0\n",
       "Name: reserved_room_type, Length: 20608, dtype: int8"
      ]
     },
     "execution_count": 29,
     "metadata": {},
     "output_type": "execute_result"
    }
   ],
   "source": [
    "#Resultados reales\n",
    "y_test"
   ]
  },
  {
   "cell_type": "markdown",
   "metadata": {},
   "source": [
    "# 4. Utiliza el clasificador para saber que ocurre con los asteroides de un dataset que se llame “habitaciones_clasificar.csv” que obtendremos del dataset proporcionado."
   ]
  },
  {
   "cell_type": "code",
   "execution_count": 30,
   "metadata": {},
   "outputs": [
    {
     "data": {
      "text/html": [
       "<div>\n",
       "<style scoped>\n",
       "    .dataframe tbody tr th:only-of-type {\n",
       "        vertical-align: middle;\n",
       "    }\n",
       "\n",
       "    .dataframe tbody tr th {\n",
       "        vertical-align: top;\n",
       "    }\n",
       "\n",
       "    .dataframe thead th {\n",
       "        text-align: right;\n",
       "    }\n",
       "</style>\n",
       "<table border=\"1\" class=\"dataframe\">\n",
       "  <thead>\n",
       "    <tr style=\"text-align: right;\">\n",
       "      <th></th>\n",
       "      <th>children</th>\n",
       "      <th>adr</th>\n",
       "      <th>adults</th>\n",
       "      <th>stays_in_week_nights</th>\n",
       "      <th>agent</th>\n",
       "      <th>reserved_room_type</th>\n",
       "    </tr>\n",
       "  </thead>\n",
       "  <tbody>\n",
       "    <tr>\n",
       "      <th>0</th>\n",
       "      <td>0.0</td>\n",
       "      <td>75.0</td>\n",
       "      <td>1</td>\n",
       "      <td>1</td>\n",
       "      <td>304.0</td>\n",
       "      <td>0</td>\n",
       "    </tr>\n",
       "    <tr>\n",
       "      <th>1</th>\n",
       "      <td>0.0</td>\n",
       "      <td>98.0</td>\n",
       "      <td>2</td>\n",
       "      <td>2</td>\n",
       "      <td>240.0</td>\n",
       "      <td>0</td>\n",
       "    </tr>\n",
       "    <tr>\n",
       "      <th>2</th>\n",
       "      <td>0.0</td>\n",
       "      <td>98.0</td>\n",
       "      <td>2</td>\n",
       "      <td>2</td>\n",
       "      <td>240.0</td>\n",
       "      <td>0</td>\n",
       "    </tr>\n",
       "    <tr>\n",
       "      <th>3</th>\n",
       "      <td>0.0</td>\n",
       "      <td>103.0</td>\n",
       "      <td>2</td>\n",
       "      <td>2</td>\n",
       "      <td>303.0</td>\n",
       "      <td>2</td>\n",
       "    </tr>\n",
       "    <tr>\n",
       "      <th>4</th>\n",
       "      <td>0.0</td>\n",
       "      <td>82.0</td>\n",
       "      <td>2</td>\n",
       "      <td>3</td>\n",
       "      <td>240.0</td>\n",
       "      <td>0</td>\n",
       "    </tr>\n",
       "    <tr>\n",
       "      <th>...</th>\n",
       "      <td>...</td>\n",
       "      <td>...</td>\n",
       "      <td>...</td>\n",
       "      <td>...</td>\n",
       "      <td>...</td>\n",
       "      <td>...</td>\n",
       "    </tr>\n",
       "    <tr>\n",
       "      <th>71</th>\n",
       "      <td>0.0</td>\n",
       "      <td>105.5</td>\n",
       "      <td>2</td>\n",
       "      <td>3</td>\n",
       "      <td>15.0</td>\n",
       "      <td>3</td>\n",
       "    </tr>\n",
       "    <tr>\n",
       "      <th>72</th>\n",
       "      <td>0.0</td>\n",
       "      <td>123.0</td>\n",
       "      <td>2</td>\n",
       "      <td>4</td>\n",
       "      <td>240.0</td>\n",
       "      <td>4</td>\n",
       "    </tr>\n",
       "    <tr>\n",
       "      <th>73</th>\n",
       "      <td>0.0</td>\n",
       "      <td>145.0</td>\n",
       "      <td>2</td>\n",
       "      <td>4</td>\n",
       "      <td>240.0</td>\n",
       "      <td>3</td>\n",
       "    </tr>\n",
       "    <tr>\n",
       "      <th>74</th>\n",
       "      <td>0.0</td>\n",
       "      <td>97.0</td>\n",
       "      <td>2</td>\n",
       "      <td>4</td>\n",
       "      <td>240.0</td>\n",
       "      <td>3</td>\n",
       "    </tr>\n",
       "    <tr>\n",
       "      <th>75</th>\n",
       "      <td>1.0</td>\n",
       "      <td>154.77</td>\n",
       "      <td>2</td>\n",
       "      <td>4</td>\n",
       "      <td>241.0</td>\n",
       "      <td>6</td>\n",
       "    </tr>\n",
       "  </tbody>\n",
       "</table>\n",
       "<p>76 rows × 6 columns</p>\n",
       "</div>"
      ],
      "text/plain": [
       "   children     adr adults stays_in_week_nights  agent reserved_room_type\n",
       "0       0.0    75.0      1                    1  304.0                  0\n",
       "1       0.0    98.0      2                    2  240.0                  0\n",
       "2       0.0    98.0      2                    2  240.0                  0\n",
       "3       0.0   103.0      2                    2  303.0                  2\n",
       "4       0.0    82.0      2                    3  240.0                  0\n",
       "..      ...     ...    ...                  ...    ...                ...\n",
       "71      0.0   105.5      2                    3   15.0                  3\n",
       "72      0.0   123.0      2                    4  240.0                  4\n",
       "73      0.0   145.0      2                    4  240.0                  3\n",
       "74      0.0    97.0      2                    4  240.0                  3\n",
       "75      1.0  154.77      2                    4  241.0                  6\n",
       "\n",
       "[76 rows x 6 columns]"
      ]
     },
     "execution_count": 30,
     "metadata": {},
     "output_type": "execute_result"
    }
   ],
   "source": [
    "#Cargamos el archivo\n",
    "test = pd.read_csv('habitaciones_clasificar.csv')\n",
    "test"
   ]
  },
  {
   "cell_type": "code",
   "execution_count": 31,
   "metadata": {},
   "outputs": [],
   "source": [
    "#Creamos los datos con de entrenamiento y el test\n",
    "x=data.drop([\"reserved_room_type\"],axis=1)\n",
    "y=data[\"reserved_room_type\"]\n",
    "#80% para el training 20% para la validacion\n",
    "x_train,x_test,y_train,y_test=train_test_split(x,y,test_size=0.2,random_state=0)"
   ]
  },
  {
   "cell_type": "code",
   "execution_count": 32,
   "metadata": {},
   "outputs": [
    {
     "data": {
      "text/plain": [
       "array([0, 0, 0, ..., 3, 0, 0], dtype=int8)"
      ]
     },
     "execution_count": 32,
     "metadata": {},
     "output_type": "execute_result"
    }
   ],
   "source": [
    "#Resultados predichos\n",
    "vecinos.predict(x_test)"
   ]
  },
  {
   "cell_type": "code",
   "execution_count": 33,
   "metadata": {},
   "outputs": [
    {
     "data": {
      "text/plain": [
       "90136    0\n",
       "24578    0\n",
       "55193    0\n",
       "37027    0\n",
       "69299    5\n",
       "        ..\n",
       "67116    0\n",
       "53803    0\n",
       "76416    3\n",
       "45292    0\n",
       "97609    0\n",
       "Name: reserved_room_type, Length: 20608, dtype: int8"
      ]
     },
     "execution_count": 33,
     "metadata": {},
     "output_type": "execute_result"
    }
   ],
   "source": [
    "#Resultados reales\n",
    "y_test"
   ]
  },
  {
   "cell_type": "code",
   "execution_count": 34,
   "metadata": {},
   "outputs": [
    {
     "data": {
      "text/plain": [
       "0.8190023291925466"
      ]
     },
     "execution_count": 34,
     "metadata": {},
     "output_type": "execute_result"
    }
   ],
   "source": [
    "#Precision\n",
    "vecinos.score(x_test,y_test)"
   ]
  },
  {
   "cell_type": "markdown",
   "metadata": {},
   "source": [
    "# Referencias\n",
    "https://scikit-learn.org/stable/modules/generated/sklearn.neighbors.KNeighborsClassifier.html\n",
    "https://scikit-learn.org/stable/modules/generated/sklearn.neighbors.DistanceMetric.html#sklearn.neighbors.DistanceMetric"
   ]
  }
 ],
 "metadata": {
  "kernelspec": {
   "display_name": "Python 3",
   "language": "python",
   "name": "python3"
  },
  "language_info": {
   "codemirror_mode": {
    "name": "ipython",
    "version": 3
   },
   "file_extension": ".py",
   "mimetype": "text/x-python",
   "name": "python",
   "nbconvert_exporter": "python",
   "pygments_lexer": "ipython3",
   "version": "3.8.5"
  }
 },
 "nbformat": 4,
 "nbformat_minor": 4
}
